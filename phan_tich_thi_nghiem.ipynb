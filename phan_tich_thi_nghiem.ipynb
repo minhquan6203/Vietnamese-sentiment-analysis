{
 "cells": [
  {
   "cell_type": "code",
   "execution_count": 169,
   "metadata": {
    "vscode": {
     "languageId": "r"
    }
   },
   "outputs": [
    {
     "data": {
      "text/html": [
       "<table>\n",
       "<thead><tr><th scope=col>X</th><th scope=col>model</th><th scope=col>data</th><th scope=col>preprocessing</th><th scope=col>text_embedding</th><th scope=col>lan_chay</th><th scope=col>accuracy_score</th><th scope=col>f1_score</th></tr></thead>\n",
       "<tbody>\n",
       "\t<tr><td> 20      </td><td>svm      </td><td>uit-vihsd</td><td>1        </td><td>cv       </td><td>1        </td><td>0.8263   </td><td>0.5337   </td></tr>\n",
       "\t<tr><td> 21      </td><td>svm      </td><td>uit-vihsd</td><td>1        </td><td>cv       </td><td>2        </td><td>0.8260   </td><td>0.5592   </td></tr>\n",
       "\t<tr><td> 22      </td><td>svm      </td><td>uit-vihsd</td><td>1        </td><td>cv       </td><td>3        </td><td>0.8241   </td><td>0.5452   </td></tr>\n",
       "\t<tr><td> 23      </td><td>svm      </td><td>uit-vihsd</td><td>1        </td><td>cv       </td><td>4        </td><td>0.8132   </td><td>0.5500   </td></tr>\n",
       "\t<tr><td> 24      </td><td>svm      </td><td>uit-vihsd</td><td>1        </td><td>cv       </td><td>5        </td><td>0.8223   </td><td>0.5323   </td></tr>\n",
       "\t<tr><td>120      </td><td>svm      </td><td>uit-vsmec</td><td>1        </td><td>cv       </td><td>1        </td><td>0.5155   </td><td>0.4827   </td></tr>\n",
       "</tbody>\n",
       "</table>\n"
      ],
      "text/latex": [
       "\\begin{tabular}{r|llllllll}\n",
       " X & model & data & preprocessing & text\\_embedding & lan\\_chay & accuracy\\_score & f1\\_score\\\\\n",
       "\\hline\n",
       "\t  20       & svm       & uit-vihsd & 1         & cv        & 1         & 0.8263    & 0.5337   \\\\\n",
       "\t  21       & svm       & uit-vihsd & 1         & cv        & 2         & 0.8260    & 0.5592   \\\\\n",
       "\t  22       & svm       & uit-vihsd & 1         & cv        & 3         & 0.8241    & 0.5452   \\\\\n",
       "\t  23       & svm       & uit-vihsd & 1         & cv        & 4         & 0.8132    & 0.5500   \\\\\n",
       "\t  24       & svm       & uit-vihsd & 1         & cv        & 5         & 0.8223    & 0.5323   \\\\\n",
       "\t 120       & svm       & uit-vsmec & 1         & cv        & 1         & 0.5155    & 0.4827   \\\\\n",
       "\\end{tabular}\n"
      ],
      "text/markdown": [
       "\n",
       "| X | model | data | preprocessing | text_embedding | lan_chay | accuracy_score | f1_score |\n",
       "|---|---|---|---|---|---|---|---|\n",
       "|  20       | svm       | uit-vihsd | 1         | cv        | 1         | 0.8263    | 0.5337    |\n",
       "|  21       | svm       | uit-vihsd | 1         | cv        | 2         | 0.8260    | 0.5592    |\n",
       "|  22       | svm       | uit-vihsd | 1         | cv        | 3         | 0.8241    | 0.5452    |\n",
       "|  23       | svm       | uit-vihsd | 1         | cv        | 4         | 0.8132    | 0.5500    |\n",
       "|  24       | svm       | uit-vihsd | 1         | cv        | 5         | 0.8223    | 0.5323    |\n",
       "| 120       | svm       | uit-vsmec | 1         | cv        | 1         | 0.5155    | 0.4827    |\n",
       "\n"
      ],
      "text/plain": [
       "  X   model data      preprocessing text_embedding lan_chay accuracy_score\n",
       "1  20 svm   uit-vihsd 1             cv             1        0.8263        \n",
       "2  21 svm   uit-vihsd 1             cv             2        0.8260        \n",
       "3  22 svm   uit-vihsd 1             cv             3        0.8241        \n",
       "4  23 svm   uit-vihsd 1             cv             4        0.8132        \n",
       "5  24 svm   uit-vihsd 1             cv             5        0.8223        \n",
       "6 120 svm   uit-vsmec 1             cv             1        0.5155        \n",
       "  f1_score\n",
       "1 0.5337  \n",
       "2 0.5592  \n",
       "3 0.5452  \n",
       "4 0.5500  \n",
       "5 0.5323  \n",
       "6 0.4827  "
      ]
     },
     "metadata": {},
     "output_type": "display_data"
    }
   ],
   "source": [
    "data=read.csv('C:/Users/nguye/PC/vietnamese-sentiment-analysis/data_new.csv')\n",
    "head(data)"
   ]
  },
  {
   "attachments": {},
   "cell_type": "markdown",
   "metadata": {},
   "source": [
    "H0:không có sự khác biệt giữa các model\n",
    "\n",
    "H1: có sự khác biệt giữa các model"
   ]
  },
  {
   "cell_type": "code",
   "execution_count": 170,
   "metadata": {
    "vscode": {
     "languageId": "r"
    }
   },
   "outputs": [
    {
     "data": {
      "image/png": "[encoded data removed]",
      "text/plain": [
       "plot without title"
      ]
     },
     "metadata": {},
     "output_type": "display_data"
    }
   ],
   "source": [
    "boxplot(data$accuracy_score ~ as.factor(data$model))"
   ]
  },
  {
   "cell_type": "code",
   "execution_count": 171,
   "metadata": {
    "vscode": {
     "languageId": "r"
    }
   },
   "outputs": [
    {
     "data": {
      "text/plain": [
       "                       Df Sum Sq Mean Sq F value   Pr(>F)    \n",
       "as.factor(data$model)   2  0.466 0.23297   8.584 0.000238 ***\n",
       "Residuals             297  8.060 0.02714                     \n",
       "---\n",
       "Signif. codes:  0 '***' 0.001 '**' 0.01 '*' 0.05 '.' 0.1 ' ' 1"
      ]
     },
     "metadata": {},
     "output_type": "display_data"
    }
   ],
   "source": [
    "av=aov(data$accuracy_score ~ as.factor(data$model))\n",
    "summary(av)"
   ]
  },
  {
   "attachments": {},
   "cell_type": "markdown",
   "metadata": {},
   "source": [
    "dựa vào anova t thấy p<0.05 => bác bỏ H0 => có sự khác biệt giữa các model"
   ]
  },
  {
   "cell_type": "code",
   "execution_count": 172,
   "metadata": {
    "vscode": {
     "languageId": "r"
    }
   },
   "outputs": [
    {
     "data": {
      "text/plain": [
       "  Tukey multiple comparisons of means\n",
       "    95% family-wise confidence level\n",
       "\n",
       "Fit: aov(formula = data$accuracy_score ~ as.factor(data$model))\n",
       "\n",
       "$`as.factor(data$model)`\n",
       "               diff         lwr        upr     p adj\n",
       "svm-cnn   -0.020551 -0.07542951 0.03432751 0.6520248\n",
       "trans-cnn  0.071409  0.01653049 0.12628751 0.0066980\n",
       "trans-svm  0.091960  0.03708149 0.14683851 0.0002904\n"
      ]
     },
     "metadata": {},
     "output_type": "display_data"
    }
   ],
   "source": [
    "TukeyHSD(av)"
   ]
  },
  {
   "attachments": {},
   "cell_type": "markdown",
   "metadata": {},
   "source": [
    "bằng phân tích hậu định ta có \n",
    "\n",
    "model svm cho kết quả trung bình thấp hơn model cnn là 0.02 với p>0.05 => ko có ý nghĩa thống kê\n",
    "\n",
    "model trans cho kết quả trung bình cao hơn model cnn là 0.07 với p<0.05 => có ý nghĩa thống kê\n",
    "\n",
    "model trans cho kết quả trung bình cao hơn model svm là 0.09 với p<0.05 => có ý nghĩa thống kê\n",
    "\n",
    "từ đây có thể thấy model trans cho hiệu suất tốt nhất so với svm và cnn"
   ]
  },
  {
   "cell_type": "code",
   "execution_count": 173,
   "metadata": {
    "vscode": {
     "languageId": "r"
    }
   },
   "outputs": [
    {
     "data": {
      "image/png": "[encoded data removed]",
      "text/plain": [
       "Plot with title \"95% family-wise confidence level\n",
       "\""
      ]
     },
     "metadata": {},
     "output_type": "display_data"
    }
   ],
   "source": [
    "plot(TukeyHSD(av))"
   ]
  },
  {
   "attachments": {},
   "cell_type": "markdown",
   "metadata": {},
   "source": [
    "H0: ko có khác biệt nào giữa các pp embedding\n",
    "\n",
    "H1: có sự khác biệt giữa các pp embedding"
   ]
  },
  {
   "cell_type": "code",
   "execution_count": 174,
   "metadata": {
    "vscode": {
     "languageId": "r"
    }
   },
   "outputs": [
    {
     "data": {
      "image/png": "[encoded data removed]",
      "text/plain": [
       "plot without title"
      ]
     },
     "metadata": {},
     "output_type": "display_data"
    }
   ],
   "source": [
    "boxplot(data$accuracy_score ~ as.factor(data$text_embedding))"
   ]
  },
  {
   "cell_type": "code",
   "execution_count": 175,
   "metadata": {
    "vscode": {
     "languageId": "r"
    }
   },
   "outputs": [
    {
     "data": {
      "text/plain": [
       "                                Df Sum Sq Mean Sq F value  Pr(>F)   \n",
       "as.factor(data$text_embedding)   3  0.395 0.13157   4.789 0.00283 **\n",
       "Residuals                      296  8.132 0.02747                   \n",
       "---\n",
       "Signif. codes:  0 '***' 0.001 '**' 0.01 '*' 0.05 '.' 0.1 ' ' 1"
      ]
     },
     "metadata": {},
     "output_type": "display_data"
    }
   ],
   "source": [
    "av=aov(data$accuracy_score ~ as.factor(data$text_embedding))\n",
    "summary(av)"
   ]
  },
  {
   "attachments": {},
   "cell_type": "markdown",
   "metadata": {},
   "source": [
    "dựa vào anova t thấy p<0.05 => bác bỏ H0 => có sự khác biệt giữa các pp embedding"
   ]
  },
  {
   "cell_type": "code",
   "execution_count": 176,
   "metadata": {
    "vscode": {
     "languageId": "r"
    }
   },
   "outputs": [
    {
     "data": {
      "text/plain": [
       "  Tukey multiple comparisons of means\n",
       "    95% family-wise confidence level\n",
       "\n",
       "Fit: aov(formula = data$accuracy_score ~ as.factor(data$text_embedding))\n",
       "\n",
       "$`as.factor(data$text_embedding)`\n",
       "                          diff         lwr          upr     p adj\n",
       "cv-co_param       -0.076566667 -0.14649712 -0.006636212 0.0255698\n",
       "ko_param-co_param -0.075300000 -0.14523045 -0.005369545 0.0292012\n",
       "tf-idf-co_param   -0.094105333 -0.16403579 -0.024174879 0.0032547\n",
       "ko_param-cv        0.001266667 -0.06866379  0.071197121 0.9999631\n",
       "tf-idf-cv         -0.017538667 -0.08746912  0.052391788 0.9161974\n",
       "tf-idf-ko_param   -0.018805333 -0.08873579  0.051125121 0.8990362\n"
      ]
     },
     "metadata": {},
     "output_type": "display_data"
    }
   ],
   "source": [
    "TukeyHSD(av)"
   ]
  },
  {
   "attachments": {},
   "cell_type": "markdown",
   "metadata": {},
   "source": [
    "dựa vào phân tích hậu định\n",
    "\n",
    "pp cv cho kết quả trung bình thấp hơn co_param là 0.076, p<0.05 => có ý nghĩa thống kê\n",
    "\n",
    "pp ko_param cho kết quả trung bình thấp hơn co_param là 0.075, p<0.05 => có ý nghĩa thống kê\n",
    "\n",
    "pp tf_idf cho kết quả trung bình thấp hơn co_param là 0.094, p <0.05 => có nghĩa thống kê\n",
    "\n",
    "=> pp co_param có hiệu suất tốt nhất"
   ]
  },
  {
   "cell_type": "code",
   "execution_count": 177,
   "metadata": {
    "vscode": {
     "languageId": "r"
    }
   },
   "outputs": [
    {
     "data": {
      "image/png": "[encoded data removed]",
      "text/plain": [
       "Plot with title \"95% family-wise confidence level\n",
       "\""
      ]
     },
     "metadata": {},
     "output_type": "display_data"
    }
   ],
   "source": [
    "plot(TukeyHSD(av))"
   ]
  },
  {
   "attachments": {},
   "cell_type": "markdown",
   "metadata": {},
   "source": [
    "H0: không có sự khác biệt giữa preprocessing và ko preprocessing\n",
    "H1: có sự khác biệt giữa preprocessing và ko preprocessing"
   ]
  },
  {
   "cell_type": "code",
   "execution_count": 178,
   "metadata": {
    "vscode": {
     "languageId": "r"
    }
   },
   "outputs": [
    {
     "data": {
      "image/png": "[encoded data removed]",
      "text/plain": [
       "plot without title"
      ]
     },
     "metadata": {},
     "output_type": "display_data"
    }
   ],
   "source": [
    "boxplot(data$accuracy_score ~ as.factor(data$preprocessing))"
   ]
  },
  {
   "cell_type": "code",
   "execution_count": 179,
   "metadata": {
    "vscode": {
     "languageId": "r"
    }
   },
   "outputs": [
    {
     "data": {
      "text/plain": [
       "\n",
       "\tWelch Two Sample t-test\n",
       "\n",
       "data:  data$accuracy_score by as.factor(data$preprocessing)\n",
       "t = -3.5532, df = 247.91, p-value = 0.0004554\n",
       "alternative hypothesis: true difference in means is not equal to 0\n",
       "95 percent confidence interval:\n",
       " -0.10868646 -0.03116576\n",
       "sample estimates:\n",
       "mean in group 0 mean in group 1 \n",
       "      0.6856300       0.7555561 \n"
      ]
     },
     "metadata": {},
     "output_type": "display_data"
    }
   ],
   "source": [
    "t.test(data$accuracy_score ~ as.factor(data$preprocessing))"
   ]
  },
  {
   "attachments": {},
   "cell_type": "markdown",
   "metadata": {},
   "source": [
    "dựa vào t test, p<0.05 => có sự khác biệt giữa 2 nhóm"
   ]
  },
  {
   "attachments": {},
   "cell_type": "markdown",
   "metadata": {},
   "source": [
    "H0: preprocessing cho kết quả ko cao hơn là ko preprocessing\n",
    "\n",
    "H1: preprocessing cho kết quả cao hơn"
   ]
  },
  {
   "cell_type": "code",
   "execution_count": 184,
   "metadata": {
    "vscode": {
     "languageId": "r"
    }
   },
   "outputs": [
    {
     "data": {
      "text/html": [
       "<table>\n",
       "<thead><tr><th scope=col>X</th><th scope=col>model</th><th scope=col>data</th><th scope=col>preprocessing</th><th scope=col>text_embedding</th><th scope=col>lan_chay</th><th scope=col>accuracy_score</th><th scope=col>f1_score</th></tr></thead>\n",
       "<tbody>\n",
       "\t<tr><td> 20      </td><td>svm      </td><td>uit-vihsd</td><td>1        </td><td>cv       </td><td>1        </td><td>0.8263   </td><td>0.5337   </td></tr>\n",
       "\t<tr><td> 21      </td><td>svm      </td><td>uit-vihsd</td><td>1        </td><td>cv       </td><td>2        </td><td>0.8260   </td><td>0.5592   </td></tr>\n",
       "\t<tr><td> 22      </td><td>svm      </td><td>uit-vihsd</td><td>1        </td><td>cv       </td><td>3        </td><td>0.8241   </td><td>0.5452   </td></tr>\n",
       "\t<tr><td> 23      </td><td>svm      </td><td>uit-vihsd</td><td>1        </td><td>cv       </td><td>4        </td><td>0.8132   </td><td>0.5500   </td></tr>\n",
       "\t<tr><td> 24      </td><td>svm      </td><td>uit-vihsd</td><td>1        </td><td>cv       </td><td>5        </td><td>0.8223   </td><td>0.5323   </td></tr>\n",
       "\t<tr><td>120      </td><td>svm      </td><td>uit-vsmec</td><td>1        </td><td>cv       </td><td>1        </td><td>0.5155   </td><td>0.4827   </td></tr>\n",
       "</tbody>\n",
       "</table>\n"
      ],
      "text/latex": [
       "\\begin{tabular}{r|llllllll}\n",
       " X & model & data & preprocessing & text\\_embedding & lan\\_chay & accuracy\\_score & f1\\_score\\\\\n",
       "\\hline\n",
       "\t  20       & svm       & uit-vihsd & 1         & cv        & 1         & 0.8263    & 0.5337   \\\\\n",
       "\t  21       & svm       & uit-vihsd & 1         & cv        & 2         & 0.8260    & 0.5592   \\\\\n",
       "\t  22       & svm       & uit-vihsd & 1         & cv        & 3         & 0.8241    & 0.5452   \\\\\n",
       "\t  23       & svm       & uit-vihsd & 1         & cv        & 4         & 0.8132    & 0.5500   \\\\\n",
       "\t  24       & svm       & uit-vihsd & 1         & cv        & 5         & 0.8223    & 0.5323   \\\\\n",
       "\t 120       & svm       & uit-vsmec & 1         & cv        & 1         & 0.5155    & 0.4827   \\\\\n",
       "\\end{tabular}\n"
      ],
      "text/markdown": [
       "\n",
       "| X | model | data | preprocessing | text_embedding | lan_chay | accuracy_score | f1_score |\n",
       "|---|---|---|---|---|---|---|---|\n",
       "|  20       | svm       | uit-vihsd | 1         | cv        | 1         | 0.8263    | 0.5337    |\n",
       "|  21       | svm       | uit-vihsd | 1         | cv        | 2         | 0.8260    | 0.5592    |\n",
       "|  22       | svm       | uit-vihsd | 1         | cv        | 3         | 0.8241    | 0.5452    |\n",
       "|  23       | svm       | uit-vihsd | 1         | cv        | 4         | 0.8132    | 0.5500    |\n",
       "|  24       | svm       | uit-vihsd | 1         | cv        | 5         | 0.8223    | 0.5323    |\n",
       "| 120       | svm       | uit-vsmec | 1         | cv        | 1         | 0.5155    | 0.4827    |\n",
       "\n"
      ],
      "text/plain": [
       "  X   model data      preprocessing text_embedding lan_chay accuracy_score\n",
       "1  20 svm   uit-vihsd 1             cv             1        0.8263        \n",
       "2  21 svm   uit-vihsd 1             cv             2        0.8260        \n",
       "3  22 svm   uit-vihsd 1             cv             3        0.8241        \n",
       "4  23 svm   uit-vihsd 1             cv             4        0.8132        \n",
       "5  24 svm   uit-vihsd 1             cv             5        0.8223        \n",
       "6 120 svm   uit-vsmec 1             cv             1        0.5155        \n",
       "  f1_score\n",
       "1 0.5337  \n",
       "2 0.5592  \n",
       "3 0.5452  \n",
       "4 0.5500  \n",
       "5 0.5323  \n",
       "6 0.4827  "
      ]
     },
     "metadata": {},
     "output_type": "display_data"
    }
   ],
   "source": [
    "head(data)"
   ]
  },
  {
   "cell_type": "code",
   "execution_count": 193,
   "metadata": {
    "vscode": {
     "languageId": "r"
    }
   },
   "outputs": [],
   "source": [
    "preprocessing_0=data[which(data[['preprocessing']]==0),]['accuracy_score']\n",
    "preprocessing_1=data[which(data[['preprocessing']]==1),]['accuracy_score'] "
   ]
  },
  {
   "cell_type": "code",
   "execution_count": 197,
   "metadata": {
    "vscode": {
     "languageId": "r"
    }
   },
   "outputs": [
    {
     "data": {
      "text/plain": [
       "\n",
       "\tWelch Two Sample t-test\n",
       "\n",
       "data:  preprocessing_1 and preprocessing_0\n",
       "t = 3.5532, df = 247.91, p-value = 0.0004554\n",
       "alternative hypothesis: true difference in means is not equal to 0\n",
       "95 percent confidence interval:\n",
       " 0.03116576 0.10868646\n",
       "sample estimates:\n",
       "mean of x mean of y \n",
       "0.7555561 0.6856300 \n"
      ]
     },
     "metadata": {},
     "output_type": "display_data"
    }
   ],
   "source": [
    "t.test(preprocessing_1,preprocessing_0,alterative='greater')\n"
   ]
  },
  {
   "attachments": {},
   "cell_type": "markdown",
   "metadata": {},
   "source": [
    "dựa vào kiểm định t cho, p<0.05 => bác bỏ H0 => chấp nhận \n",
    "\n",
    "H1: preprocessing cho kết quả cao hơn"
   ]
  }
 ],
 "metadata": {
  "kernelspec": {
   "display_name": "R",
   "language": "R",
   "name": "ir"
  },
  "language_info": {
   "codemirror_mode": "r",
   "file_extension": ".r",
   "mimetype": "text/x-r-source",
   "name": "R",
   "pygments_lexer": "r",
   "version": "3.6.1"
  },
  "orig_nbformat": 4
 },
 "nbformat": 4,
 "nbformat_minor": 2
}
