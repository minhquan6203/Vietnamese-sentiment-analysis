{
  "nbformat": 4,
  "nbformat_minor": 0,
  "metadata": {
    "colab": {
      "provenance": [],
      "gpuType": "T4"
    },
    "kernelspec": {
      "name": "python3",
      "display_name": "Python 3"
    },
    "language_info": {
      "name": "python"
    },
    "accelerator": "GPU"
  },
  "cells": [
    {
      "cell_type": "code",
      "execution_count": 1,
      "metadata": {
        "colab": {
          "base_uri": "https://localhost:8080/"
        },
        "id": "J9eWRmSHprDv",
        "outputId": "ca69b672-9511-424b-bc85-578eb7098099"
      },
      "outputs": [
        {
          "output_type": "stream",
          "name": "stdout",
          "text": [
            "Cloning into 'vietnamese-sentiment-analysis'...\n",
            "remote: Enumerating objects: 119, done.\u001b[K\n",
            "remote: Counting objects: 100% (119/119), done.\u001b[K\n",
            "remote: Compressing objects: 100% (72/72), done.\u001b[K\n",
            "remote: Total 119 (delta 61), reused 98 (delta 40), pack-reused 0\u001b[K\n",
            "Receiving objects: 100% (119/119), 348.96 KiB | 3.92 MiB/s, done.\n",
            "Resolving deltas: 100% (61/61), done.\n"
          ]
        }
      ],
      "source": [
        "!git clone https://github.com/minhquan6203/vietnamese-sentiment-analysis"
      ]
    },
    {
      "cell_type": "code",
      "source": [
        "import pandas as pd\n",
        "data=pd.read_csv('/content/vietnamese-sentiment-analysis/data/train.csv')"
      ],
      "metadata": {
        "id": "z5GTTO6WcGOA"
      },
      "execution_count": 2,
      "outputs": []
    },
    {
      "cell_type": "code",
      "source": [
        "data.head()"
      ],
      "metadata": {
        "colab": {
          "base_uri": "https://localhost:8080/",
          "height": 206
        },
        "id": "PHztfh_Eq1KQ",
        "outputId": "9a159cf8-8134-423d-c50a-b85f0ff6771c"
      },
      "execution_count": 3,
      "outputs": [
        {
          "output_type": "execute_result",
          "data": {
            "text/plain": [
              "                                            sentence  sentiment  topic\n",
              "0                        slide giáo trình đầy đủ .\\n          2      1\n",
              "1   nhiệt tình giảng dạy , gần gũi với sinh viên .\\n          2      0\n",
              "2             đi học đầy đủ full điểm chuyên cần .\\n          0      1\n",
              "3  chưa áp dụng công nghệ thông tin và các thiết ...          0      0\n",
              "4  thầy giảng bài hay , có nhiều bài tập ví dụ ng...          2      0"
            ],
            "text/html": [
              "\n",
              "  <div id=\"df-b0d0b05a-d723-4460-b2f2-eb521f979ec5\">\n",
              "    <div class=\"colab-df-container\">\n",
              "      <div>\n",
              "<style scoped>\n",
              "    .dataframe tbody tr th:only-of-type {\n",
              "        vertical-align: middle;\n",
              "    }\n",
              "\n",
              "    .dataframe tbody tr th {\n",
              "        vertical-align: top;\n",
              "    }\n",
              "\n",
              "    .dataframe thead th {\n",
              "        text-align: right;\n",
              "    }\n",
              "</style>\n",
              "<table border=\"1\" class=\"dataframe\">\n",
              "  <thead>\n",
              "    <tr style=\"text-align: right;\">\n",
              "      <th></th>\n",
              "      <th>sentence</th>\n",
              "      <th>sentiment</th>\n",
              "      <th>topic</th>\n",
              "    </tr>\n",
              "  </thead>\n",
              "  <tbody>\n",
              "    <tr>\n",
              "      <th>0</th>\n",
              "      <td>slide giáo trình đầy đủ .\\n</td>\n",
              "      <td>2</td>\n",
              "      <td>1</td>\n",
              "    </tr>\n",
              "    <tr>\n",
              "      <th>1</th>\n",
              "      <td>nhiệt tình giảng dạy , gần gũi với sinh viên .\\n</td>\n",
              "      <td>2</td>\n",
              "      <td>0</td>\n",
              "    </tr>\n",
              "    <tr>\n",
              "      <th>2</th>\n",
              "      <td>đi học đầy đủ full điểm chuyên cần .\\n</td>\n",
              "      <td>0</td>\n",
              "      <td>1</td>\n",
              "    </tr>\n",
              "    <tr>\n",
              "      <th>3</th>\n",
              "      <td>chưa áp dụng công nghệ thông tin và các thiết ...</td>\n",
              "      <td>0</td>\n",
              "      <td>0</td>\n",
              "    </tr>\n",
              "    <tr>\n",
              "      <th>4</th>\n",
              "      <td>thầy giảng bài hay , có nhiều bài tập ví dụ ng...</td>\n",
              "      <td>2</td>\n",
              "      <td>0</td>\n",
              "    </tr>\n",
              "  </tbody>\n",
              "</table>\n",
              "</div>\n",
              "      <button class=\"colab-df-convert\" onclick=\"convertToInteractive('df-b0d0b05a-d723-4460-b2f2-eb521f979ec5')\"\n",
              "              title=\"Convert this dataframe to an interactive table.\"\n",
              "              style=\"display:none;\">\n",
              "        \n",
              "  <svg xmlns=\"http://www.w3.org/2000/svg\" height=\"24px\"viewBox=\"0 0 24 24\"\n",
              "       width=\"24px\">\n",
              "    <path d=\"M0 0h24v24H0V0z\" fill=\"none\"/>\n",
              "    <path d=\"M18.56 5.44l.94 2.06.94-2.06 2.06-.94-2.06-.94-.94-2.06-.94 2.06-2.06.94zm-11 1L8.5 8.5l.94-2.06 2.06-.94-2.06-.94L8.5 2.5l-.94 2.06-2.06.94zm10 10l.94 2.06.94-2.06 2.06-.94-2.06-.94-.94-2.06-.94 2.06-2.06.94z\"/><path d=\"M17.41 7.96l-1.37-1.37c-.4-.4-.92-.59-1.43-.59-.52 0-1.04.2-1.43.59L10.3 9.45l-7.72 7.72c-.78.78-.78 2.05 0 2.83L4 21.41c.39.39.9.59 1.41.59.51 0 1.02-.2 1.41-.59l7.78-7.78 2.81-2.81c.8-.78.8-2.07 0-2.86zM5.41 20L4 18.59l7.72-7.72 1.47 1.35L5.41 20z\"/>\n",
              "  </svg>\n",
              "      </button>\n",
              "      \n",
              "  <style>\n",
              "    .colab-df-container {\n",
              "      display:flex;\n",
              "      flex-wrap:wrap;\n",
              "      gap: 12px;\n",
              "    }\n",
              "\n",
              "    .colab-df-convert {\n",
              "      background-color: #E8F0FE;\n",
              "      border: none;\n",
              "      border-radius: 50%;\n",
              "      cursor: pointer;\n",
              "      display: none;\n",
              "      fill: #1967D2;\n",
              "      height: 32px;\n",
              "      padding: 0 0 0 0;\n",
              "      width: 32px;\n",
              "    }\n",
              "\n",
              "    .colab-df-convert:hover {\n",
              "      background-color: #E2EBFA;\n",
              "      box-shadow: 0px 1px 2px rgba(60, 64, 67, 0.3), 0px 1px 3px 1px rgba(60, 64, 67, 0.15);\n",
              "      fill: #174EA6;\n",
              "    }\n",
              "\n",
              "    [theme=dark] .colab-df-convert {\n",
              "      background-color: #3B4455;\n",
              "      fill: #D2E3FC;\n",
              "    }\n",
              "\n",
              "    [theme=dark] .colab-df-convert:hover {\n",
              "      background-color: #434B5C;\n",
              "      box-shadow: 0px 1px 3px 1px rgba(0, 0, 0, 0.15);\n",
              "      filter: drop-shadow(0px 1px 2px rgba(0, 0, 0, 0.3));\n",
              "      fill: #FFFFFF;\n",
              "    }\n",
              "  </style>\n",
              "\n",
              "      <script>\n",
              "        const buttonEl =\n",
              "          document.querySelector('#df-b0d0b05a-d723-4460-b2f2-eb521f979ec5 button.colab-df-convert');\n",
              "        buttonEl.style.display =\n",
              "          google.colab.kernel.accessAllowed ? 'block' : 'none';\n",
              "\n",
              "        async function convertToInteractive(key) {\n",
              "          const element = document.querySelector('#df-b0d0b05a-d723-4460-b2f2-eb521f979ec5');\n",
              "          const dataTable =\n",
              "            await google.colab.kernel.invokeFunction('convertToInteractive',\n",
              "                                                     [key], {});\n",
              "          if (!dataTable) return;\n",
              "\n",
              "          const docLinkHtml = 'Like what you see? Visit the ' +\n",
              "            '<a target=\"_blank\" href=https://colab.research.google.com/notebooks/data_table.ipynb>data table notebook</a>'\n",
              "            + ' to learn more about interactive tables.';\n",
              "          element.innerHTML = '';\n",
              "          dataTable['output_type'] = 'display_data';\n",
              "          await google.colab.output.renderOutput(dataTable, element);\n",
              "          const docLink = document.createElement('div');\n",
              "          docLink.innerHTML = docLinkHtml;\n",
              "          element.appendChild(docLink);\n",
              "        }\n",
              "      </script>\n",
              "    </div>\n",
              "  </div>\n",
              "  "
            ]
          },
          "metadata": {},
          "execution_count": 3
        }
      ]
    },
    {
      "cell_type": "code",
      "source": [
        "import numpy as np\n",
        "num_word=[len(data['sentence'][i].split()) for i in range(len(data)) ]\n",
        "print(np.mean(num_word))\n",
        "print(max(num_word))\n",
        "print(min(num_word))"
      ],
      "metadata": {
        "colab": {
          "base_uri": "https://localhost:8080/"
        },
        "id": "YYF3KYnTeFoh",
        "outputId": "ed0d4f60-9d65-4ed1-bb12-8bd17480c875"
      },
      "execution_count": 4,
      "outputs": [
        {
          "output_type": "stream",
          "name": "stdout",
          "text": [
            "14.308769473131454\n",
            "159\n",
            "2\n"
          ]
        }
      ]
    },
    {
      "cell_type": "code",
      "source": [
        "!pip install yacs\n",
        "!pip install transformers\n",
        "!pip install SentencePiece\n",
        "!pip install transformers datasets\n",
        "!pip install --upgrade accelerate\n",
        "import nltk\n",
        "nltk.download('wordnet')\n",
        "nltk.download('omw-1.4')"
      ],
      "metadata": {
        "id": "1OfUZzMJqFNS",
        "colab": {
          "base_uri": "https://localhost:8080/"
        },
        "outputId": "a641b7a5-aa69-42a4-c134-eb6b26af2d5c"
      },
      "execution_count": 5,
      "outputs": [
        {
          "output_type": "stream",
          "name": "stdout",
          "text": [
            "Looking in indexes: https://pypi.org/simple, https://us-python.pkg.dev/colab-wheels/public/simple/\n",
            "Collecting yacs\n",
            "  Downloading yacs-0.1.8-py3-none-any.whl (14 kB)\n",
            "Requirement already satisfied: PyYAML in /usr/local/lib/python3.10/dist-packages (from yacs) (6.0)\n",
            "Installing collected packages: yacs\n",
            "Successfully installed yacs-0.1.8\n",
            "Looking in indexes: https://pypi.org/simple, https://us-python.pkg.dev/colab-wheels/public/simple/\n",
            "Collecting transformers\n",
            "  Downloading transformers-4.29.2-py3-none-any.whl (7.1 MB)\n",
            "\u001b[2K     \u001b[90m━━━━━━━━━━━━━━━━━━━━━━━━━━━━━━━━━━━━━━━━\u001b[0m \u001b[32m7.1/7.1 MB\u001b[0m \u001b[31m54.1 MB/s\u001b[0m eta \u001b[36m0:00:00\u001b[0m\n",
            "\u001b[?25hRequirement already satisfied: filelock in /usr/local/lib/python3.10/dist-packages (from transformers) (3.12.0)\n",
            "Collecting huggingface-hub<1.0,>=0.14.1 (from transformers)\n",
            "  Downloading huggingface_hub-0.14.1-py3-none-any.whl (224 kB)\n",
            "\u001b[2K     \u001b[90m━━━━━━━━━━━━━━━━━━━━━━━━━━━━━━━━━━━━━━\u001b[0m \u001b[32m224.5/224.5 kB\u001b[0m \u001b[31m26.6 MB/s\u001b[0m eta \u001b[36m0:00:00\u001b[0m\n",
            "\u001b[?25hRequirement already satisfied: numpy>=1.17 in /usr/local/lib/python3.10/dist-packages (from transformers) (1.22.4)\n",
            "Requirement already satisfied: packaging>=20.0 in /usr/local/lib/python3.10/dist-packages (from transformers) (23.1)\n",
            "Requirement already satisfied: pyyaml>=5.1 in /usr/local/lib/python3.10/dist-packages (from transformers) (6.0)\n",
            "Requirement already satisfied: regex!=2019.12.17 in /usr/local/lib/python3.10/dist-packages (from transformers) (2022.10.31)\n",
            "Requirement already satisfied: requests in /usr/local/lib/python3.10/dist-packages (from transformers) (2.27.1)\n",
            "Collecting tokenizers!=0.11.3,<0.14,>=0.11.1 (from transformers)\n",
            "  Downloading tokenizers-0.13.3-cp310-cp310-manylinux_2_17_x86_64.manylinux2014_x86_64.whl (7.8 MB)\n",
            "\u001b[2K     \u001b[90m━━━━━━━━━━━━━━━━━━━━━━━━━━━━━━━━━━━━━━━━\u001b[0m \u001b[32m7.8/7.8 MB\u001b[0m \u001b[31m85.5 MB/s\u001b[0m eta \u001b[36m0:00:00\u001b[0m\n",
            "\u001b[?25hRequirement already satisfied: tqdm>=4.27 in /usr/local/lib/python3.10/dist-packages (from transformers) (4.65.0)\n",
            "Requirement already satisfied: fsspec in /usr/local/lib/python3.10/dist-packages (from huggingface-hub<1.0,>=0.14.1->transformers) (2023.4.0)\n",
            "Requirement already satisfied: typing-extensions>=3.7.4.3 in /usr/local/lib/python3.10/dist-packages (from huggingface-hub<1.0,>=0.14.1->transformers) (4.5.0)\n",
            "Requirement already satisfied: urllib3<1.27,>=1.21.1 in /usr/local/lib/python3.10/dist-packages (from requests->transformers) (1.26.15)\n",
            "Requirement already satisfied: certifi>=2017.4.17 in /usr/local/lib/python3.10/dist-packages (from requests->transformers) (2022.12.7)\n",
            "Requirement already satisfied: charset-normalizer~=2.0.0 in /usr/local/lib/python3.10/dist-packages (from requests->transformers) (2.0.12)\n",
            "Requirement already satisfied: idna<4,>=2.5 in /usr/local/lib/python3.10/dist-packages (from requests->transformers) (3.4)\n",
            "Installing collected packages: tokenizers, huggingface-hub, transformers\n",
            "Successfully installed huggingface-hub-0.14.1 tokenizers-0.13.3 transformers-4.29.2\n",
            "Looking in indexes: https://pypi.org/simple, https://us-python.pkg.dev/colab-wheels/public/simple/\n",
            "Collecting SentencePiece\n",
            "  Downloading sentencepiece-0.1.99-cp310-cp310-manylinux_2_17_x86_64.manylinux2014_x86_64.whl (1.3 MB)\n",
            "\u001b[2K     \u001b[90m━━━━━━━━━━━━━━━━━━━━━━━━━━━━━━━━━━━━━━━━\u001b[0m \u001b[32m1.3/1.3 MB\u001b[0m \u001b[31m19.5 MB/s\u001b[0m eta \u001b[36m0:00:00\u001b[0m\n",
            "\u001b[?25hInstalling collected packages: SentencePiece\n",
            "Successfully installed SentencePiece-0.1.99\n",
            "Looking in indexes: https://pypi.org/simple, https://us-python.pkg.dev/colab-wheels/public/simple/\n",
            "Requirement already satisfied: transformers in /usr/local/lib/python3.10/dist-packages (4.29.2)\n",
            "Collecting datasets\n",
            "  Downloading datasets-2.12.0-py3-none-any.whl (474 kB)\n",
            "\u001b[2K     \u001b[90m━━━━━━━━━━━━━━━━━━━━━━━━━━━━━━━━━━━━━━━\u001b[0m \u001b[32m474.6/474.6 kB\u001b[0m \u001b[31m9.3 MB/s\u001b[0m eta \u001b[36m0:00:00\u001b[0m\n",
            "\u001b[?25hRequirement already satisfied: filelock in /usr/local/lib/python3.10/dist-packages (from transformers) (3.12.0)\n",
            "Requirement already satisfied: huggingface-hub<1.0,>=0.14.1 in /usr/local/lib/python3.10/dist-packages (from transformers) (0.14.1)\n",
            "Requirement already satisfied: numpy>=1.17 in /usr/local/lib/python3.10/dist-packages (from transformers) (1.22.4)\n",
            "Requirement already satisfied: packaging>=20.0 in /usr/local/lib/python3.10/dist-packages (from transformers) (23.1)\n",
            "Requirement already satisfied: pyyaml>=5.1 in /usr/local/lib/python3.10/dist-packages (from transformers) (6.0)\n",
            "Requirement already satisfied: regex!=2019.12.17 in /usr/local/lib/python3.10/dist-packages (from transformers) (2022.10.31)\n",
            "Requirement already satisfied: requests in /usr/local/lib/python3.10/dist-packages (from transformers) (2.27.1)\n",
            "Requirement already satisfied: tokenizers!=0.11.3,<0.14,>=0.11.1 in /usr/local/lib/python3.10/dist-packages (from transformers) (0.13.3)\n",
            "Requirement already satisfied: tqdm>=4.27 in /usr/local/lib/python3.10/dist-packages (from transformers) (4.65.0)\n",
            "Requirement already satisfied: pyarrow>=8.0.0 in /usr/local/lib/python3.10/dist-packages (from datasets) (9.0.0)\n",
            "Collecting dill<0.3.7,>=0.3.0 (from datasets)\n",
            "  Downloading dill-0.3.6-py3-none-any.whl (110 kB)\n",
            "\u001b[2K     \u001b[90m━━━━━━━━━━━━━━━━━━━━━━━━━━━━━━━━━━━━━━\u001b[0m \u001b[32m110.5/110.5 kB\u001b[0m \u001b[31m15.7 MB/s\u001b[0m eta \u001b[36m0:00:00\u001b[0m\n",
            "\u001b[?25hRequirement already satisfied: pandas in /usr/local/lib/python3.10/dist-packages (from datasets) (1.5.3)\n",
            "Collecting xxhash (from datasets)\n",
            "  Downloading xxhash-3.2.0-cp310-cp310-manylinux_2_17_x86_64.manylinux2014_x86_64.whl (212 kB)\n",
            "\u001b[2K     \u001b[90m━━━━━━━━━━━━━━━━━━━━━━━━━━━━━━━━━━━━━━\u001b[0m \u001b[32m212.5/212.5 kB\u001b[0m \u001b[31m27.8 MB/s\u001b[0m eta \u001b[36m0:00:00\u001b[0m\n",
            "\u001b[?25hCollecting multiprocess (from datasets)\n",
            "  Downloading multiprocess-0.70.14-py310-none-any.whl (134 kB)\n",
            "\u001b[2K     \u001b[90m━━━━━━━━━━━━━━━━━━━━━━━━━━━━━━━━━━━━━━\u001b[0m \u001b[32m134.3/134.3 kB\u001b[0m \u001b[31m17.8 MB/s\u001b[0m eta \u001b[36m0:00:00\u001b[0m\n",
            "\u001b[?25hRequirement already satisfied: fsspec[http]>=2021.11.1 in /usr/local/lib/python3.10/dist-packages (from datasets) (2023.4.0)\n",
            "Collecting aiohttp (from datasets)\n",
            "  Downloading aiohttp-3.8.4-cp310-cp310-manylinux_2_17_x86_64.manylinux2014_x86_64.whl (1.0 MB)\n",
            "\u001b[2K     \u001b[90m━━━━━━━━━━━━━━━━━━━━━━━━━━━━━━━━━━━━━━━━\u001b[0m \u001b[32m1.0/1.0 MB\u001b[0m \u001b[31m43.4 MB/s\u001b[0m eta \u001b[36m0:00:00\u001b[0m\n",
            "\u001b[?25hCollecting responses<0.19 (from datasets)\n",
            "  Downloading responses-0.18.0-py3-none-any.whl (38 kB)\n",
            "Requirement already satisfied: attrs>=17.3.0 in /usr/local/lib/python3.10/dist-packages (from aiohttp->datasets) (23.1.0)\n",
            "Requirement already satisfied: charset-normalizer<4.0,>=2.0 in /usr/local/lib/python3.10/dist-packages (from aiohttp->datasets) (2.0.12)\n",
            "Collecting multidict<7.0,>=4.5 (from aiohttp->datasets)\n",
            "  Downloading multidict-6.0.4-cp310-cp310-manylinux_2_17_x86_64.manylinux2014_x86_64.whl (114 kB)\n",
            "\u001b[2K     \u001b[90m━━━━━━━━━━━━━━━━━━━━━━━━━━━━━━━━━━━━━━\u001b[0m \u001b[32m114.5/114.5 kB\u001b[0m \u001b[31m15.4 MB/s\u001b[0m eta \u001b[36m0:00:00\u001b[0m\n",
            "\u001b[?25hCollecting async-timeout<5.0,>=4.0.0a3 (from aiohttp->datasets)\n",
            "  Downloading async_timeout-4.0.2-py3-none-any.whl (5.8 kB)\n",
            "Collecting yarl<2.0,>=1.0 (from aiohttp->datasets)\n",
            "  Downloading yarl-1.9.2-cp310-cp310-manylinux_2_17_x86_64.manylinux2014_x86_64.whl (268 kB)\n",
            "\u001b[2K     \u001b[90m━━━━━━━━━━━━━━━━━━━━━━━━━━━━━━━━━━━━━━\u001b[0m \u001b[32m268.8/268.8 kB\u001b[0m \u001b[31m30.3 MB/s\u001b[0m eta \u001b[36m0:00:00\u001b[0m\n",
            "\u001b[?25hCollecting frozenlist>=1.1.1 (from aiohttp->datasets)\n",
            "  Downloading frozenlist-1.3.3-cp310-cp310-manylinux_2_5_x86_64.manylinux1_x86_64.manylinux_2_17_x86_64.manylinux2014_x86_64.whl (149 kB)\n",
            "\u001b[2K     \u001b[90m━━━━━━━━━━━━━━━━━━━━━━━━━━━━━━━━━━━━━━\u001b[0m \u001b[32m149.6/149.6 kB\u001b[0m \u001b[31m19.5 MB/s\u001b[0m eta \u001b[36m0:00:00\u001b[0m\n",
            "\u001b[?25hCollecting aiosignal>=1.1.2 (from aiohttp->datasets)\n",
            "  Downloading aiosignal-1.3.1-py3-none-any.whl (7.6 kB)\n",
            "Requirement already satisfied: typing-extensions>=3.7.4.3 in /usr/local/lib/python3.10/dist-packages (from huggingface-hub<1.0,>=0.14.1->transformers) (4.5.0)\n",
            "Requirement already satisfied: urllib3<1.27,>=1.21.1 in /usr/local/lib/python3.10/dist-packages (from requests->transformers) (1.26.15)\n",
            "Requirement already satisfied: certifi>=2017.4.17 in /usr/local/lib/python3.10/dist-packages (from requests->transformers) (2022.12.7)\n",
            "Requirement already satisfied: idna<4,>=2.5 in /usr/local/lib/python3.10/dist-packages (from requests->transformers) (3.4)\n",
            "Requirement already satisfied: python-dateutil>=2.8.1 in /usr/local/lib/python3.10/dist-packages (from pandas->datasets) (2.8.2)\n",
            "Requirement already satisfied: pytz>=2020.1 in /usr/local/lib/python3.10/dist-packages (from pandas->datasets) (2022.7.1)\n",
            "Requirement already satisfied: six>=1.5 in /usr/local/lib/python3.10/dist-packages (from python-dateutil>=2.8.1->pandas->datasets) (1.16.0)\n",
            "Installing collected packages: xxhash, multidict, frozenlist, dill, async-timeout, yarl, responses, multiprocess, aiosignal, aiohttp, datasets\n",
            "Successfully installed aiohttp-3.8.4 aiosignal-1.3.1 async-timeout-4.0.2 datasets-2.12.0 dill-0.3.6 frozenlist-1.3.3 multidict-6.0.4 multiprocess-0.70.14 responses-0.18.0 xxhash-3.2.0 yarl-1.9.2\n",
            "Looking in indexes: https://pypi.org/simple, https://us-python.pkg.dev/colab-wheels/public/simple/\n",
            "Collecting accelerate\n",
            "  Downloading accelerate-0.19.0-py3-none-any.whl (219 kB)\n",
            "\u001b[2K     \u001b[90m━━━━━━━━━━━━━━━━━━━━━━━━━━━━━━━━━━━━━━━\u001b[0m \u001b[32m219.1/219.1 kB\u001b[0m \u001b[31m6.4 MB/s\u001b[0m eta \u001b[36m0:00:00\u001b[0m\n",
            "\u001b[?25hRequirement already satisfied: numpy>=1.17 in /usr/local/lib/python3.10/dist-packages (from accelerate) (1.22.4)\n",
            "Requirement already satisfied: packaging>=20.0 in /usr/local/lib/python3.10/dist-packages (from accelerate) (23.1)\n",
            "Requirement already satisfied: psutil in /usr/local/lib/python3.10/dist-packages (from accelerate) (5.9.5)\n",
            "Requirement already satisfied: pyyaml in /usr/local/lib/python3.10/dist-packages (from accelerate) (6.0)\n",
            "Requirement already satisfied: torch>=1.6.0 in /usr/local/lib/python3.10/dist-packages (from accelerate) (2.0.1+cu118)\n",
            "Requirement already satisfied: filelock in /usr/local/lib/python3.10/dist-packages (from torch>=1.6.0->accelerate) (3.12.0)\n",
            "Requirement already satisfied: typing-extensions in /usr/local/lib/python3.10/dist-packages (from torch>=1.6.0->accelerate) (4.5.0)\n",
            "Requirement already satisfied: sympy in /usr/local/lib/python3.10/dist-packages (from torch>=1.6.0->accelerate) (1.11.1)\n",
            "Requirement already satisfied: networkx in /usr/local/lib/python3.10/dist-packages (from torch>=1.6.0->accelerate) (3.1)\n",
            "Requirement already satisfied: jinja2 in /usr/local/lib/python3.10/dist-packages (from torch>=1.6.0->accelerate) (3.1.2)\n",
            "Requirement already satisfied: triton==2.0.0 in /usr/local/lib/python3.10/dist-packages (from torch>=1.6.0->accelerate) (2.0.0)\n",
            "Requirement already satisfied: cmake in /usr/local/lib/python3.10/dist-packages (from triton==2.0.0->torch>=1.6.0->accelerate) (3.25.2)\n",
            "Requirement already satisfied: lit in /usr/local/lib/python3.10/dist-packages (from triton==2.0.0->torch>=1.6.0->accelerate) (16.0.5)\n",
            "Requirement already satisfied: MarkupSafe>=2.0 in /usr/local/lib/python3.10/dist-packages (from jinja2->torch>=1.6.0->accelerate) (2.1.2)\n",
            "Requirement already satisfied: mpmath>=0.19 in /usr/local/lib/python3.10/dist-packages (from sympy->torch>=1.6.0->accelerate) (1.3.0)\n",
            "Installing collected packages: accelerate\n",
            "Successfully installed accelerate-0.19.0\n"
          ]
        },
        {
          "output_type": "stream",
          "name": "stderr",
          "text": [
            "[nltk_data] Downloading package wordnet to /root/nltk_data...\n",
            "[nltk_data] Downloading package omw-1.4 to /root/nltk_data...\n"
          ]
        },
        {
          "output_type": "execute_result",
          "data": {
            "text/plain": [
              "True"
            ]
          },
          "metadata": {},
          "execution_count": 5
        }
      ]
    },
    {
      "cell_type": "code",
      "source": [
        "import os\n",
        "os.environ[\"TOKENIZERS_PARALLELISM\"] = \"false\""
      ],
      "metadata": {
        "id": "Jj00XaIPr24q"
      },
      "execution_count": 6,
      "outputs": []
    },
    {
      "cell_type": "code",
      "source": [
        "!rm -rf /content/checkpoint\n",
        "# !rm -rf /content/vietnamese-sentiment-analysis"
      ],
      "metadata": {
        "id": "VrSrVwoaemiR"
      },
      "execution_count": 11,
      "outputs": []
    },
    {
      "cell_type": "code",
      "source": [
        "!python /content/vietnamese-sentiment-analysis/src/main.py --config /content/vietnamese-sentiment-analysis/src/config/config_trans_svm.yaml"
      ],
      "metadata": {
        "colab": {
          "base_uri": "https://localhost:8080/"
        },
        "id": "LROxbrV0r6Gn",
        "outputId": "cc5d4c7a-ee9d-40f9-ad8e-3c57656a6650"
      },
      "execution_count": null,
      "outputs": [
        {
          "output_type": "stream",
          "name": "stdout",
          "text": [
            "2023-05-28 03:43:39.087720: W tensorflow/compiler/tf2tensorrt/utils/py_utils.cc:38] TF-TRT Warning: Could not find TensorRT\n",
            "WARNING:datasets.builder:Found cached dataset csv (/root/.cache/huggingface/datasets/csv/default-ac18bc216f481c54/0.0.0/6954658bab30a358235fa864b05cf819af0e179325c740e4bc853bcc7ec513e1)\n",
            "100% 2/2 [00:00<00:00, 807.30it/s]\n",
            "WARNING:datasets.arrow_dataset:Loading cached processed dataset at /root/.cache/huggingface/datasets/csv/default-ac18bc216f481c54/0.0.0/6954658bab30a358235fa864b05cf819af0e179325c740e4bc853bcc7ec513e1/cache-43c3ed77210cee61.arrow\n",
            "WARNING:datasets.arrow_dataset:Loading cached processed dataset at /root/.cache/huggingface/datasets/csv/default-ac18bc216f481c54/0.0.0/6954658bab30a358235fa864b05cf819af0e179325c740e4bc853bcc7ec513e1/cache-e577f5ee0e3514af.arrow\n",
            "WARNING:datasets.arrow_dataset:Loading cached shuffled indices for dataset at /root/.cache/huggingface/datasets/csv/default-ac18bc216f481c54/0.0.0/6954658bab30a358235fa864b05cf819af0e179325c740e4bc853bcc7ec513e1/cache-b3d22e6c6f419c71.arrow\n",
            "WARNING:datasets.arrow_dataset:Loading cached shuffled indices for dataset at /root/.cache/huggingface/datasets/csv/default-ac18bc216f481c54/0.0.0/6954658bab30a358235fa864b05cf819af0e179325c740e4bc853bcc7ec513e1/cache-52eca9f1bcf92ddc.arrow\n",
            "INFO:root:Loaded processed DSAAA Dataset\n",
            "INFO:root:Created data collator\n",
            "INFO:root:Initialized model for training\n",
            "INFO:root:Training started...\n",
            "frist time training\n",
            "{'loss': 0.6727, 'learning_rate': 4.999803080693156e-05, 'epoch': 1.0}\n",
            "{'eval_loss': 0.46477100253105164, 'eval_accuracy': 0.8496525584333544, 'eval_f1': 0.5789853864532978, 'eval_runtime': 2.0636, 'eval_samples_per_second': 767.121, 'eval_steps_per_second': 3.392, 'epoch': 1.0}\n",
            "{'loss': 0.4781, 'learning_rate': 4.999606161386312e-05, 'epoch': 2.0}\n",
            "{'eval_loss': 0.388790488243103, 'eval_accuracy': 0.8856601389766267, 'eval_f1': 0.6040469198853621, 'eval_runtime': 2.1161, 'eval_samples_per_second': 748.078, 'eval_steps_per_second': 3.308, 'epoch': 2.0}\n",
            "{'loss': 0.4618, 'learning_rate': 4.999409242079468e-05, 'epoch': 3.0}\n",
            "{'eval_loss': 0.3735474944114685, 'eval_accuracy': 0.8888186986734049, 'eval_f1': 0.606183369826124, 'eval_runtime': 2.1616, 'eval_samples_per_second': 732.335, 'eval_steps_per_second': 3.238, 'epoch': 3.0}\n",
            "{'loss': 0.4284, 'learning_rate': 4.999212322772624e-05, 'epoch': 4.0}\n",
            "{'eval_loss': 0.37660959362983704, 'eval_accuracy': 0.881238155401137, 'eval_f1': 0.6261915876612997, 'eval_runtime': 2.0352, 'eval_samples_per_second': 777.814, 'eval_steps_per_second': 3.439, 'epoch': 4.0}\n",
            "{'loss': 0.4084, 'learning_rate': 4.99901540346578e-05, 'epoch': 5.0}\n",
            "{'eval_loss': 0.3494803011417389, 'eval_accuracy': 0.8951358180669615, 'eval_f1': 0.6728252240231894, 'eval_runtime': 2.1396, 'eval_samples_per_second': 739.847, 'eval_steps_per_second': 3.272, 'epoch': 5.0}\n",
            "{'loss': 0.4005, 'learning_rate': 4.998818484158936e-05, 'epoch': 6.0}\n",
            "{'eval_loss': 0.3377823531627655, 'eval_accuracy': 0.9052432090966519, 'eval_f1': 0.703934436140926, 'eval_runtime': 2.1636, 'eval_samples_per_second': 731.642, 'eval_steps_per_second': 3.235, 'epoch': 6.0}\n",
            "{'loss': 0.3884, 'learning_rate': 4.998621564852092e-05, 'epoch': 7.0}\n",
            "{'eval_loss': 0.31960296630859375, 'eval_accuracy': 0.9046114971572963, 'eval_f1': 0.7178020320877464, 'eval_runtime': 2.0247, 'eval_samples_per_second': 781.854, 'eval_steps_per_second': 3.457, 'epoch': 7.0}\n",
            "{'loss': 0.3777, 'learning_rate': 4.9984246455452476e-05, 'epoch': 8.0}\n",
            "{'eval_loss': 0.3170818090438843, 'eval_accuracy': 0.9065066329753633, 'eval_f1': 0.707789404525624, 'eval_runtime': 2.1608, 'eval_samples_per_second': 732.583, 'eval_steps_per_second': 3.239, 'epoch': 8.0}\n",
            "{'loss': 0.3706, 'learning_rate': 4.9982277262384035e-05, 'epoch': 9.0}\n",
            "{'eval_loss': 0.30876410007476807, 'eval_accuracy': 0.9096651926721415, 'eval_f1': 0.7453397491148337, 'eval_runtime': 2.1072, 'eval_samples_per_second': 751.225, 'eval_steps_per_second': 3.322, 'epoch': 9.0}\n",
            "{'loss': 0.3592, 'learning_rate': 4.99803080693156e-05, 'epoch': 10.0}\n",
            "{'eval_loss': 0.30858322978019714, 'eval_accuracy': 0.9128237523689198, 'eval_f1': 0.7424891695262364, 'eval_runtime': 2.0386, 'eval_samples_per_second': 776.523, 'eval_steps_per_second': 3.434, 'epoch': 10.0}\n",
            "{'loss': 0.3464, 'learning_rate': 4.997833887624716e-05, 'epoch': 11.0}\n",
            "{'eval_loss': 0.30394497513771057, 'eval_accuracy': 0.9121920404295641, 'eval_f1': 0.7321593681169527, 'eval_runtime': 2.1384, 'eval_samples_per_second': 740.286, 'eval_steps_per_second': 3.274, 'epoch': 11.0}\n",
            "{'loss': 0.3437, 'learning_rate': 4.997636968317872e-05, 'epoch': 12.0}\n",
            "{'eval_loss': 0.299386590719223, 'eval_accuracy': 0.9121920404295641, 'eval_f1': 0.7738819749774365, 'eval_runtime': 2.0728, 'eval_samples_per_second': 763.708, 'eval_steps_per_second': 3.377, 'epoch': 12.0}\n",
            "{'loss': 0.3396, 'learning_rate': 4.997440049011028e-05, 'epoch': 13.0}\n",
            "{'eval_loss': 0.30737200379371643, 'eval_accuracy': 0.9147188881869868, 'eval_f1': 0.761881822374827, 'eval_runtime': 2.0295, 'eval_samples_per_second': 780.007, 'eval_steps_per_second': 3.449, 'epoch': 13.0}\n",
            "{'loss': 0.3409, 'learning_rate': 4.997243129704184e-05, 'epoch': 14.0}\n",
            "{'eval_loss': 0.2889910638332367, 'eval_accuracy': 0.9185091598231206, 'eval_f1': 0.766912002307941, 'eval_runtime': 2.1363, 'eval_samples_per_second': 741.005, 'eval_steps_per_second': 3.277, 'epoch': 14.0}\n",
            "{'loss': 0.3265, 'learning_rate': 4.99704621039734e-05, 'epoch': 15.0}\n",
            "{'eval_loss': 0.29850295186042786, 'eval_accuracy': 0.917877447883765, 'eval_f1': 0.7893931446079879, 'eval_runtime': 2.0796, 'eval_samples_per_second': 761.218, 'eval_steps_per_second': 3.366, 'epoch': 15.0}\n",
            "{'loss': 0.3202, 'learning_rate': 4.9968492910904957e-05, 'epoch': 16.0}\n",
            "{'eval_loss': 0.28325363993644714, 'eval_accuracy': 0.9204042956411876, 'eval_f1': 0.7786320006654535, 'eval_runtime': 2.035, 'eval_samples_per_second': 777.895, 'eval_steps_per_second': 3.44, 'epoch': 16.0}\n",
            "{'loss': 0.3141, 'learning_rate': 4.9966523717836516e-05, 'epoch': 17.0}\n",
            "{'eval_loss': 0.2876388728618622, 'eval_accuracy': 0.9185091598231206, 'eval_f1': 0.7619218492410386, 'eval_runtime': 2.1587, 'eval_samples_per_second': 733.328, 'eval_steps_per_second': 3.243, 'epoch': 17.0}\n",
            "{'loss': 0.3177, 'learning_rate': 4.9964554524768075e-05, 'epoch': 18.0}\n",
            "{'eval_loss': 0.28542616963386536, 'eval_accuracy': 0.9147188881869868, 'eval_f1': 0.7635279850324187, 'eval_runtime': 2.0545, 'eval_samples_per_second': 770.516, 'eval_steps_per_second': 3.407, 'epoch': 18.0}\n",
            "{'loss': 0.3091, 'learning_rate': 4.9962585331699634e-05, 'epoch': 19.0}\n",
            "{'eval_loss': 0.27417469024658203, 'eval_accuracy': 0.9235628553379659, 'eval_f1': 0.799913369884746, 'eval_runtime': 2.0336, 'eval_samples_per_second': 778.417, 'eval_steps_per_second': 3.442, 'epoch': 19.0}\n",
            "{'loss': 0.3051, 'learning_rate': 4.9960616138631193e-05, 'epoch': 20.0}\n",
            "{'eval_loss': 0.2799200415611267, 'eval_accuracy': 0.9210360075805433, 'eval_f1': 0.7383248586943383, 'eval_runtime': 2.1813, 'eval_samples_per_second': 725.713, 'eval_steps_per_second': 3.209, 'epoch': 20.0}\n",
            "{'loss': 0.3021, 'learning_rate': 4.995864694556275e-05, 'epoch': 21.0}\n",
            "{'eval_loss': 0.27643048763275146, 'eval_accuracy': 0.9210360075805433, 'eval_f1': 0.7687415105581857, 'eval_runtime': 2.0211, 'eval_samples_per_second': 783.242, 'eval_steps_per_second': 3.463, 'epoch': 21.0}\n",
            "{'loss': 0.2961, 'learning_rate': 4.995667775249431e-05, 'epoch': 22.0}\n",
            "{'eval_loss': 0.27268290519714355, 'eval_accuracy': 0.9235628553379659, 'eval_f1': 0.7840401624206338, 'eval_runtime': 2.0118, 'eval_samples_per_second': 786.857, 'eval_steps_per_second': 3.479, 'epoch': 22.0}\n",
            "{'loss': 0.2954, 'learning_rate': 4.995470855942587e-05, 'epoch': 23.0}\n",
            "{'eval_loss': 0.27027586102485657, 'eval_accuracy': 0.9229311433986103, 'eval_f1': 0.7879539082397359, 'eval_runtime': 2.6206, 'eval_samples_per_second': 604.068, 'eval_steps_per_second': 2.671, 'epoch': 23.0}\n"
          ]
        }
      ]
    }
  ]
}