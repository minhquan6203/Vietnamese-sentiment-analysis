{
  "cells": [
    {
      "cell_type": "code",
      "execution_count": null,
      "metadata": {
        "colab": {
          "base_uri": "https://localhost:8080/"
        },
        "id": "J9eWRmSHprDv",
        "outputId": "62fe8b4d-0daa-45f0-dcf1-c7a06c3c4422"
      },
      "outputs": [
        {
          "output_type": "stream",
          "name": "stdout",
          "text": [
            "Cloning into 'vietnamese-sentiment-analysis'...\n",
            "remote: Enumerating objects: 214, done.\u001b[K\n",
            "remote: Counting objects: 100% (214/214), done.\u001b[K\n",
            "remote: Compressing objects: 100% (135/135), done.\u001b[K\n",
            "remote: Total 214 (delta 122), reused 164 (delta 72), pack-reused 0\u001b[K\n",
            "Receiving objects: 100% (214/214), 586.17 KiB | 5.33 MiB/s, done.\n",
            "Resolving deltas: 100% (122/122), done.\n"
          ]
        }
      ],
      "source": [
        "!git clone https://github.com/minhquan6203/vietnamese-sentiment-analysis"
      ]
    },
    {
      "cell_type": "code",
      "execution_count": null,
      "metadata": {
        "id": "z5GTTO6WcGOA"
      },
      "outputs": [],
      "source": [
        "import pandas as pd\n",
        "train=pd.read_csv('/content/vietnamese-sentiment-analysis/data/UIT-VSFC/train.csv')\n",
        "dev=pd.read_csv('/content/vietnamese-sentiment-analysis/data/UIT-VSFC/dev.csv')\n",
        "test=pd.read_csv('/content/vietnamese-sentiment-analysis/data/UIT-VSFC/test.csv')"
      ]
    },
    {
      "cell_type": "code",
      "execution_count": null,
      "metadata": {
        "colab": {
          "base_uri": "https://localhost:8080/",
          "height": 223
        },
        "id": "PHztfh_Eq1KQ",
        "outputId": "79e51707-3560-41a2-efae-92fec7bf267e"
      },
      "outputs": [
        {
          "name": "stdout",
          "output_type": "stream",
          "text": [
            "11426\n"
          ]
        },
        {
          "data": {
            "text/html": [
              "\n",
              "  <div id=\"df-05dae078-f938-4dc8-bdde-3c22d53f59c5\">\n",
              "    <div class=\"colab-df-container\">\n",
              "      <div>\n",
              "<style scoped>\n",
              "    .dataframe tbody tr th:only-of-type {\n",
              "        vertical-align: middle;\n",
              "    }\n",
              "\n",
              "    .dataframe tbody tr th {\n",
              "        vertical-align: top;\n",
              "    }\n",
              "\n",
              "    .dataframe thead th {\n",
              "        text-align: right;\n",
              "    }\n",
              "</style>\n",
              "<table border=\"1\" class=\"dataframe\">\n",
              "  <thead>\n",
              "    <tr style=\"text-align: right;\">\n",
              "      <th></th>\n",
              "      <th>sentence</th>\n",
              "      <th>sentiment</th>\n",
              "      <th>topic</th>\n",
              "    </tr>\n",
              "  </thead>\n",
              "  <tbody>\n",
              "    <tr>\n",
              "      <th>0</th>\n",
              "      <td>slide giáo trình đầy đủ .\\n</td>\n",
              "      <td>2</td>\n",
              "      <td>1</td>\n",
              "    </tr>\n",
              "    <tr>\n",
              "      <th>1</th>\n",
              "      <td>nhiệt tình giảng dạy , gần gũi với sinh viên .\\n</td>\n",
              "      <td>2</td>\n",
              "      <td>0</td>\n",
              "    </tr>\n",
              "    <tr>\n",
              "      <th>2</th>\n",
              "      <td>đi học đầy đủ full điểm chuyên cần .\\n</td>\n",
              "      <td>0</td>\n",
              "      <td>1</td>\n",
              "    </tr>\n",
              "    <tr>\n",
              "      <th>3</th>\n",
              "      <td>chưa áp dụng công nghệ thông tin và các thiết ...</td>\n",
              "      <td>0</td>\n",
              "      <td>0</td>\n",
              "    </tr>\n",
              "    <tr>\n",
              "      <th>4</th>\n",
              "      <td>thầy giảng bài hay , có nhiều bài tập ví dụ ng...</td>\n",
              "      <td>2</td>\n",
              "      <td>0</td>\n",
              "    </tr>\n",
              "  </tbody>\n",
              "</table>\n",
              "</div>\n",
              "      <button class=\"colab-df-convert\" onclick=\"convertToInteractive('df-05dae078-f938-4dc8-bdde-3c22d53f59c5')\"\n",
              "              title=\"Convert this dataframe to an interactive table.\"\n",
              "              style=\"display:none;\">\n",
              "        \n",
              "  <svg xmlns=\"http://www.w3.org/2000/svg\" height=\"24px\"viewBox=\"0 0 24 24\"\n",
              "       width=\"24px\">\n",
              "    <path d=\"M0 0h24v24H0V0z\" fill=\"none\"/>\n",
              "    <path d=\"M18.56 5.44l.94 2.06.94-2.06 2.06-.94-2.06-.94-.94-2.06-.94 2.06-2.06.94zm-11 1L8.5 8.5l.94-2.06 2.06-.94-2.06-.94L8.5 2.5l-.94 2.06-2.06.94zm10 10l.94 2.06.94-2.06 2.06-.94-2.06-.94-.94-2.06-.94 2.06-2.06.94z\"/><path d=\"M17.41 7.96l-1.37-1.37c-.4-.4-.92-.59-1.43-.59-.52 0-1.04.2-1.43.59L10.3 9.45l-7.72 7.72c-.78.78-.78 2.05 0 2.83L4 21.41c.39.39.9.59 1.41.59.51 0 1.02-.2 1.41-.59l7.78-7.78 2.81-2.81c.8-.78.8-2.07 0-2.86zM5.41 20L4 18.59l7.72-7.72 1.47 1.35L5.41 20z\"/>\n",
              "  </svg>\n",
              "      </button>\n",
              "      \n",
              "  <style>\n",
              "    .colab-df-container {\n",
              "      display:flex;\n",
              "      flex-wrap:wrap;\n",
              "      gap: 12px;\n",
              "    }\n",
              "\n",
              "    .colab-df-convert {\n",
              "      background-color: #E8F0FE;\n",
              "      border: none;\n",
              "      border-radius: 50%;\n",
              "      cursor: pointer;\n",
              "      display: none;\n",
              "      fill: #1967D2;\n",
              "      height: 32px;\n",
              "      padding: 0 0 0 0;\n",
              "      width: 32px;\n",
              "    }\n",
              "\n",
              "    .colab-df-convert:hover {\n",
              "      background-color: #E2EBFA;\n",
              "      box-shadow: 0px 1px 2px rgba(60, 64, 67, 0.3), 0px 1px 3px 1px rgba(60, 64, 67, 0.15);\n",
              "      fill: #174EA6;\n",
              "    }\n",
              "\n",
              "    [theme=dark] .colab-df-convert {\n",
              "      background-color: #3B4455;\n",
              "      fill: #D2E3FC;\n",
              "    }\n",
              "\n",
              "    [theme=dark] .colab-df-convert:hover {\n",
              "      background-color: #434B5C;\n",
              "      box-shadow: 0px 1px 3px 1px rgba(0, 0, 0, 0.15);\n",
              "      filter: drop-shadow(0px 1px 2px rgba(0, 0, 0, 0.3));\n",
              "      fill: #FFFFFF;\n",
              "    }\n",
              "  </style>\n",
              "\n",
              "      <script>\n",
              "        const buttonEl =\n",
              "          document.querySelector('#df-05dae078-f938-4dc8-bdde-3c22d53f59c5 button.colab-df-convert');\n",
              "        buttonEl.style.display =\n",
              "          google.colab.kernel.accessAllowed ? 'block' : 'none';\n",
              "\n",
              "        async function convertToInteractive(key) {\n",
              "          const element = document.querySelector('#df-05dae078-f938-4dc8-bdde-3c22d53f59c5');\n",
              "          const dataTable =\n",
              "            await google.colab.kernel.invokeFunction('convertToInteractive',\n",
              "                                                     [key], {});\n",
              "          if (!dataTable) return;\n",
              "\n",
              "          const docLinkHtml = 'Like what you see? Visit the ' +\n",
              "            '<a target=\"_blank\" href=https://colab.research.google.com/notebooks/data_table.ipynb>data table notebook</a>'\n",
              "            + ' to learn more about interactive tables.';\n",
              "          element.innerHTML = '';\n",
              "          dataTable['output_type'] = 'display_data';\n",
              "          await google.colab.output.renderOutput(dataTable, element);\n",
              "          const docLink = document.createElement('div');\n",
              "          docLink.innerHTML = docLinkHtml;\n",
              "          element.appendChild(docLink);\n",
              "        }\n",
              "      </script>\n",
              "    </div>\n",
              "  </div>\n",
              "  "
            ],
            "text/plain": [
              "                                            sentence  sentiment  topic\n",
              "0                        slide giáo trình đầy đủ .\\n          2      1\n",
              "1   nhiệt tình giảng dạy , gần gũi với sinh viên .\\n          2      0\n",
              "2             đi học đầy đủ full điểm chuyên cần .\\n          0      1\n",
              "3  chưa áp dụng công nghệ thông tin và các thiết ...          0      0\n",
              "4  thầy giảng bài hay , có nhiều bài tập ví dụ ng...          2      0"
            ]
          },
          "execution_count": 20,
          "metadata": {},
          "output_type": "execute_result"
        }
      ],
      "source": [
        "print(len(train))\n",
        "train.head()"
      ]
    },
    {
      "cell_type": "code",
      "source": [
        "!pip install py_vncorenlp"
      ],
      "metadata": {
        "id": "i0vYE7BCO9jl"
      },
      "execution_count": null,
      "outputs": []
    },
    {
      "cell_type": "code",
      "execution_count": null,
      "metadata": {
        "id": "rZ-LfApSzcxT"
      },
      "outputs": [],
      "source": [
        "# train=train.rename(columns={'Emotion':'sentiment','Sentence':'sentence'})\n",
        "# dev=dev.rename(columns={'Emotion':'sentiment','Sentence':'sentence'})\n",
        "# test=test.rename(columns={'Emotion':'sentiment','Sentence':'sentence'})\n",
        "!python /content/vietnamese-sentiment-analysis/src/data_utils/data_preprocessing.py"
      ]
    },
    {
      "cell_type": "code",
      "execution_count": null,
      "metadata": {
        "id": "YYF3KYnTeFoh"
      },
      "outputs": [],
      "source": [
        "import numpy as np\n",
        "train=pd.read_csv('/content/vietnamese-sentiment-analysis/data/train.csv')\n",
        "num_word=[len(train['sentence'][i].split()) for i in range(len(train)) ]\n",
        "print(np.mean(num_word))\n",
        "print(max(num_word))\n",
        "print(min(num_word))\n",
        "print(train['sentiment'].unique())"
      ]
    },
    {
      "cell_type": "code",
      "execution_count": null,
      "metadata": {
        "id": "1OfUZzMJqFNS"
      },
      "outputs": [],
      "source": [
        "!pip install yacs\n",
        "!pip install transformers\n",
        "!pip install SentencePiece\n",
        "!pip install transformers datasets\n",
        "!pip install --upgrade accelerate\n",
        "import nltk\n",
        "nltk.download('wordnet')\n",
        "nltk.download('omw-1.4')"
      ]
    },
    {
      "cell_type": "code",
      "execution_count": 10,
      "metadata": {
        "id": "Jj00XaIPr24q"
      },
      "outputs": [],
      "source": [
        "import os\n",
        "os.environ[\"TOKENIZERS_PARALLELISM\"] = \"false\""
      ]
    },
    {
      "cell_type": "code",
      "execution_count": 45,
      "metadata": {
        "id": "VrSrVwoaemiR"
      },
      "outputs": [],
      "source": [
        "!rm -rf /content/checkpoint\n",
        "# !rm -rf /content/vietnamese-sentiment-analysis"
      ]
    },
    {
      "cell_type": "code",
      "execution_count": 46,
      "metadata": {
        "colab": {
          "base_uri": "https://localhost:8080/"
        },
        "id": "LROxbrV0r6Gn",
        "outputId": "1f9e1a6d-1436-4719-e0cc-7ca9bccdd2e6"
      },
      "outputs": [
        {
          "output_type": "stream",
          "name": "stdout",
          "text": [
            "2023-05-29 08:02:45.538463: W tensorflow/compiler/tf2tensorrt/utils/py_utils.cc:38] TF-TRT Warning: Could not find TensorRT\n",
            "WARNING:datasets.builder:Found cached dataset csv (/root/.cache/huggingface/datasets/csv/default-6357d934b66eb79c/0.0.0/6954658bab30a358235fa864b05cf819af0e179325c740e4bc853bcc7ec513e1)\n",
            "100% 2/2 [00:00<00:00, 764.27it/s]\n",
            "WARNING:datasets.arrow_dataset:Loading cached processed dataset at /root/.cache/huggingface/datasets/csv/default-6357d934b66eb79c/0.0.0/6954658bab30a358235fa864b05cf819af0e179325c740e4bc853bcc7ec513e1/cache-6a9127399a38a15d.arrow\n",
            "WARNING:datasets.arrow_dataset:Loading cached processed dataset at /root/.cache/huggingface/datasets/csv/default-6357d934b66eb79c/0.0.0/6954658bab30a358235fa864b05cf819af0e179325c740e4bc853bcc7ec513e1/cache-6247e64aa71cc09d.arrow\n",
            "WARNING:datasets.arrow_dataset:Loading cached shuffled indices for dataset at /root/.cache/huggingface/datasets/csv/default-6357d934b66eb79c/0.0.0/6954658bab30a358235fa864b05cf819af0e179325c740e4bc853bcc7ec513e1/cache-ca839bfca823a274.arrow\n",
            "WARNING:datasets.arrow_dataset:Loading cached shuffled indices for dataset at /root/.cache/huggingface/datasets/csv/default-6357d934b66eb79c/0.0.0/6954658bab30a358235fa864b05cf819af0e179325c740e4bc853bcc7ec513e1/cache-6e3683bb679b7821.arrow\n",
            "INFO:root:Loaded processed sentiment Dataset\n",
            "INFO:root:Created data collator\n",
            "INFO:root:Initialized model for training\n",
            "INFO:root:Training started...\n",
            "frist time training\n",
            "/usr/local/lib/python3.10/dist-packages/torch/utils/data/dataloader.py:560: UserWarning: This DataLoader will create 4 worker processes in total. Our suggested max number of worker in current system is 2, which is smaller than what this DataLoader is going to create. Please be aware that excessive worker creation might get DataLoader running slow or even freeze, lower the worker number to avoid potential slowness/freeze if necessary.\n",
            "  warnings.warn(_create_warning_msg(\n",
            "{'loss': 0.6615, 'learning_rate': 4.999803080693156e-05, 'epoch': 1.0}\n",
            "{'eval_loss': 0.4122220277786255, 'eval_accuracy': 0.8635502210991788, 'eval_f1': 0.5888601746381543, 'eval_runtime': 2.2961, 'eval_samples_per_second': 689.435, 'eval_steps_per_second': 3.049, 'epoch': 1.0}\n",
            "/usr/local/lib/python3.10/dist-packages/torch/utils/data/dataloader.py:560: UserWarning: This DataLoader will create 4 worker processes in total. Our suggested max number of worker in current system is 2, which is smaller than what this DataLoader is going to create. Please be aware that excessive worker creation might get DataLoader running slow or even freeze, lower the worker number to avoid potential slowness/freeze if necessary.\n",
            "  warnings.warn(_create_warning_msg(\n",
            "{'loss': 0.4491, 'learning_rate': 4.999606161386312e-05, 'epoch': 2.0}\n",
            "{'eval_loss': 0.404736191034317, 'eval_accuracy': 0.8610233733417562, 'eval_f1': 0.6040388965997309, 'eval_runtime': 2.2225, 'eval_samples_per_second': 712.255, 'eval_steps_per_second': 3.15, 'epoch': 2.0}\n",
            "/usr/local/lib/python3.10/dist-packages/torch/utils/data/dataloader.py:560: UserWarning: This DataLoader will create 4 worker processes in total. Our suggested max number of worker in current system is 2, which is smaller than what this DataLoader is going to create. Please be aware that excessive worker creation might get DataLoader running slow or even freeze, lower the worker number to avoid potential slowness/freeze if necessary.\n",
            "  warnings.warn(_create_warning_msg(\n",
            "{'loss': 0.4155, 'learning_rate': 4.999409242079468e-05, 'epoch': 3.0}\n",
            "{'eval_loss': 0.38106611371040344, 'eval_accuracy': 0.8793430195830702, 'eval_f1': 0.6601654633087035, 'eval_runtime': 2.5479, 'eval_samples_per_second': 621.3, 'eval_steps_per_second': 2.747, 'epoch': 3.0}\n",
            "/usr/local/lib/python3.10/dist-packages/torch/utils/data/dataloader.py:560: UserWarning: This DataLoader will create 4 worker processes in total. Our suggested max number of worker in current system is 2, which is smaller than what this DataLoader is going to create. Please be aware that excessive worker creation might get DataLoader running slow or even freeze, lower the worker number to avoid potential slowness/freeze if necessary.\n",
            "  warnings.warn(_create_warning_msg(\n",
            "{'loss': 0.3848, 'learning_rate': 4.999212322772624e-05, 'epoch': 4.0}\n",
            "{'eval_loss': 0.350341260433197, 'eval_accuracy': 0.897662665824384, 'eval_f1': 0.7201440528461731, 'eval_runtime': 2.2454, 'eval_samples_per_second': 705.012, 'eval_steps_per_second': 3.118, 'epoch': 4.0}\n",
            "/usr/local/lib/python3.10/dist-packages/torch/utils/data/dataloader.py:560: UserWarning: This DataLoader will create 4 worker processes in total. Our suggested max number of worker in current system is 2, which is smaller than what this DataLoader is going to create. Please be aware that excessive worker creation might get DataLoader running slow or even freeze, lower the worker number to avoid potential slowness/freeze if necessary.\n",
            "  warnings.warn(_create_warning_msg(\n",
            "{'loss': 0.3766, 'learning_rate': 4.99901540346578e-05, 'epoch': 5.0}\n",
            "{'eval_loss': 0.34844356775283813, 'eval_accuracy': 0.8875552747946936, 'eval_f1': 0.7074820951030271, 'eval_runtime': 2.2097, 'eval_samples_per_second': 716.381, 'eval_steps_per_second': 3.168, 'epoch': 5.0}\n",
            "/usr/local/lib/python3.10/dist-packages/torch/utils/data/dataloader.py:560: UserWarning: This DataLoader will create 4 worker processes in total. Our suggested max number of worker in current system is 2, which is smaller than what this DataLoader is going to create. Please be aware that excessive worker creation might get DataLoader running slow or even freeze, lower the worker number to avoid potential slowness/freeze if necessary.\n",
            "  warnings.warn(_create_warning_msg(\n",
            "{'loss': 0.3628, 'learning_rate': 4.998818484158936e-05, 'epoch': 6.0}\n",
            "{'eval_loss': 0.3380051255226135, 'eval_accuracy': 0.8957675300063171, 'eval_f1': 0.710767647429559, 'eval_runtime': 2.2053, 'eval_samples_per_second': 717.802, 'eval_steps_per_second': 3.174, 'epoch': 6.0}\n",
            "/usr/local/lib/python3.10/dist-packages/torch/utils/data/dataloader.py:560: UserWarning: This DataLoader will create 4 worker processes in total. Our suggested max number of worker in current system is 2, which is smaller than what this DataLoader is going to create. Please be aware that excessive worker creation might get DataLoader running slow or even freeze, lower the worker number to avoid potential slowness/freeze if necessary.\n",
            "  warnings.warn(_create_warning_msg(\n",
            "{'loss': 0.3642, 'learning_rate': 4.998621564852092e-05, 'epoch': 7.0}\n",
            "{'eval_loss': 0.3188455104827881, 'eval_accuracy': 0.8945041061276058, 'eval_f1': 0.704365867569482, 'eval_runtime': 2.2377, 'eval_samples_per_second': 707.421, 'eval_steps_per_second': 3.128, 'epoch': 7.0}\n",
            "/usr/local/lib/python3.10/dist-packages/torch/utils/data/dataloader.py:560: UserWarning: This DataLoader will create 4 worker processes in total. Our suggested max number of worker in current system is 2, which is smaller than what this DataLoader is going to create. Please be aware that excessive worker creation might get DataLoader running slow or even freeze, lower the worker number to avoid potential slowness/freeze if necessary.\n",
            "  warnings.warn(_create_warning_msg(\n",
            "{'loss': 0.3489, 'learning_rate': 4.9984246455452476e-05, 'epoch': 8.0}\n",
            "{'eval_loss': 0.3291013240814209, 'eval_accuracy': 0.9020846493998737, 'eval_f1': 0.7150838467408068, 'eval_runtime': 2.2224, 'eval_samples_per_second': 712.294, 'eval_steps_per_second': 3.15, 'epoch': 8.0}\n",
            "/usr/local/lib/python3.10/dist-packages/torch/utils/data/dataloader.py:560: UserWarning: This DataLoader will create 4 worker processes in total. Our suggested max number of worker in current system is 2, which is smaller than what this DataLoader is going to create. Please be aware that excessive worker creation might get DataLoader running slow or even freeze, lower the worker number to avoid potential slowness/freeze if necessary.\n",
            "  warnings.warn(_create_warning_msg(\n",
            "{'loss': 0.3448, 'learning_rate': 4.9982277262384035e-05, 'epoch': 9.0}\n",
            "{'eval_loss': 0.35353532433509827, 'eval_accuracy': 0.8881869867340493, 'eval_f1': 0.6866372975097783, 'eval_runtime': 2.3507, 'eval_samples_per_second': 673.41, 'eval_steps_per_second': 2.978, 'epoch': 9.0}\n",
            "{'train_runtime': 277.0269, 'train_samples_per_second': 4124.509, 'train_steps_per_second': 16.244, 'train_loss': 0.4120305473421827, 'epoch': 9.0}\n",
            "/usr/local/lib/python3.10/dist-packages/torch/utils/data/dataloader.py:560: UserWarning: This DataLoader will create 4 worker processes in total. Our suggested max number of worker in current system is 2, which is smaller than what this DataLoader is going to create. Please be aware that excessive worker creation might get DataLoader running slow or even freeze, lower the worker number to avoid potential slowness/freeze if necessary.\n",
            "  warnings.warn(_create_warning_msg(\n",
            "{'eval_loss': 0.350341260433197, 'eval_accuracy': 0.897662665824384, 'eval_f1': 0.7201440528461731, 'eval_runtime': 2.2427, 'eval_samples_per_second': 705.831, 'eval_steps_per_second': 3.121, 'epoch': 9.0}\n",
            "INFO:root:Training complete\n",
            "INFO:root:Metrics saved\n",
            "INFO:root:predicting...\n",
            "INFO:root:Loading the sentiment_analysis model...\n",
            "INFO:root:best checkpoint at path: checkpoint/sentiment_analysis/checkpoint-180/pytorch_model.bin\n",
            "INFO:root:Obtaining predictions...\n",
            "accuracy on test: 0.8701831964624132\n",
            "f1 macro on test: 0.6703622854201217\n",
            "confusion matrix:\n",
            " [[1261   22  126]\n",
            " [  59   26   82]\n",
            " [ 102   20 1468]]\n",
            "INFO:root:task done!!!\n"
          ]
        }
      ],
      "source": [
        "!python /content/vietnamese-sentiment-analysis/src/main.py --config /content/vietnamese-sentiment-analysis/src/config/config_roberta.yaml"
      ]
    }
  ],
  "metadata": {
    "accelerator": "GPU",
    "colab": {
      "provenance": []
    },
    "kernelspec": {
      "display_name": "Python 3",
      "name": "python3"
    },
    "language_info": {
      "name": "python"
    }
  },
  "nbformat": 4,
  "nbformat_minor": 0
}