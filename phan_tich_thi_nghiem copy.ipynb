{
 "cells": [
  {
   "cell_type": "code",
   "execution_count": 3,
   "metadata": {
    "vscode": {
     "languageId": "r"
    }
   },
   "outputs": [
    {
     "data": {
      "text/html": [
       "<table>\n",
       "<thead><tr><th scope=col>X</th><th scope=col>model</th><th scope=col>data</th><th scope=col>preprocessing</th><th scope=col>text_embedding</th><th scope=col>lan_chay</th><th scope=col>accuracy_score</th><th scope=col>f1_score</th></tr></thead>\n",
       "<tbody>\n",
       "\t<tr><td> 20      </td><td>svm      </td><td>uit-vihsd</td><td>1        </td><td>cv       </td><td>1        </td><td>0.8263   </td><td>0.5337   </td></tr>\n",
       "\t<tr><td> 21      </td><td>svm      </td><td>uit-vihsd</td><td>1        </td><td>cv       </td><td>2        </td><td>0.8260   </td><td>0.5592   </td></tr>\n",
       "\t<tr><td> 22      </td><td>svm      </td><td>uit-vihsd</td><td>1        </td><td>cv       </td><td>3        </td><td>0.8241   </td><td>0.5452   </td></tr>\n",
       "\t<tr><td> 23      </td><td>svm      </td><td>uit-vihsd</td><td>1        </td><td>cv       </td><td>4        </td><td>0.8132   </td><td>0.5500   </td></tr>\n",
       "\t<tr><td> 24      </td><td>svm      </td><td>uit-vihsd</td><td>1        </td><td>cv       </td><td>5        </td><td>0.8223   </td><td>0.5323   </td></tr>\n",
       "\t<tr><td>120      </td><td>svm      </td><td>uit-vsmec</td><td>1        </td><td>cv       </td><td>1        </td><td>0.5155   </td><td>0.4827   </td></tr>\n",
       "</tbody>\n",
       "</table>\n"
      ],
      "text/latex": [
       "\\begin{tabular}{r|llllllll}\n",
       " X & model & data & preprocessing & text\\_embedding & lan\\_chay & accuracy\\_score & f1\\_score\\\\\n",
       "\\hline\n",
       "\t  20       & svm       & uit-vihsd & 1         & cv        & 1         & 0.8263    & 0.5337   \\\\\n",
       "\t  21       & svm       & uit-vihsd & 1         & cv        & 2         & 0.8260    & 0.5592   \\\\\n",
       "\t  22       & svm       & uit-vihsd & 1         & cv        & 3         & 0.8241    & 0.5452   \\\\\n",
       "\t  23       & svm       & uit-vihsd & 1         & cv        & 4         & 0.8132    & 0.5500   \\\\\n",
       "\t  24       & svm       & uit-vihsd & 1         & cv        & 5         & 0.8223    & 0.5323   \\\\\n",
       "\t 120       & svm       & uit-vsmec & 1         & cv        & 1         & 0.5155    & 0.4827   \\\\\n",
       "\\end{tabular}\n"
      ],
      "text/markdown": [
       "\n",
       "| X | model | data | preprocessing | text_embedding | lan_chay | accuracy_score | f1_score |\n",
       "|---|---|---|---|---|---|---|---|\n",
       "|  20       | svm       | uit-vihsd | 1         | cv        | 1         | 0.8263    | 0.5337    |\n",
       "|  21       | svm       | uit-vihsd | 1         | cv        | 2         | 0.8260    | 0.5592    |\n",
       "|  22       | svm       | uit-vihsd | 1         | cv        | 3         | 0.8241    | 0.5452    |\n",
       "|  23       | svm       | uit-vihsd | 1         | cv        | 4         | 0.8132    | 0.5500    |\n",
       "|  24       | svm       | uit-vihsd | 1         | cv        | 5         | 0.8223    | 0.5323    |\n",
       "| 120       | svm       | uit-vsmec | 1         | cv        | 1         | 0.5155    | 0.4827    |\n",
       "\n"
      ],
      "text/plain": [
       "  X   model data      preprocessing text_embedding lan_chay accuracy_score\n",
       "1  20 svm   uit-vihsd 1             cv             1        0.8263        \n",
       "2  21 svm   uit-vihsd 1             cv             2        0.8260        \n",
       "3  22 svm   uit-vihsd 1             cv             3        0.8241        \n",
       "4  23 svm   uit-vihsd 1             cv             4        0.8132        \n",
       "5  24 svm   uit-vihsd 1             cv             5        0.8223        \n",
       "6 120 svm   uit-vsmec 1             cv             1        0.5155        \n",
       "  f1_score\n",
       "1 0.5337  \n",
       "2 0.5592  \n",
       "3 0.5452  \n",
       "4 0.5500  \n",
       "5 0.5323  \n",
       "6 0.4827  "
      ]
     },
     "metadata": {},
     "output_type": "display_data"
    }
   ],
   "source": [
    "data=read.csv('C:/Users/nguye/PC/vietnamese-sentiment-analysis/data_new.csv')\n",
    "head(data)"
   ]
  },
  {
   "attachments": {},
   "cell_type": "markdown",
   "metadata": {},
   "source": [
    "H0:không có sự khác biệt giữa các model\n",
    "\n",
    "H1: có sự khác biệt giữa các model"
   ]
  },
  {
   "cell_type": "code",
   "execution_count": 4,
   "metadata": {
    "vscode": {
     "languageId": "r"
    }
   },
   "outputs": [
    {
     "data": {
      "image/png": "[encoded data removed]",
      "text/plain": [
       "plot without title"
      ]
     },
     "metadata": {},
     "output_type": "display_data"
    }
   ],
   "source": [
    "boxplot(data$f1_score ~ as.factor(data$model))"
   ]
  },
  {
   "cell_type": "code",
   "execution_count": 5,
   "metadata": {
    "vscode": {
     "languageId": "r"
    }
   },
   "outputs": [
    {
     "data": {
      "text/plain": [
       "                       Df Sum Sq Mean Sq F value   Pr(>F)    \n",
       "as.factor(data$model)   2  0.623 0.31139   27.62 9.98e-12 ***\n",
       "Residuals             297  3.349 0.01127                     \n",
       "---\n",
       "Signif. codes:  0 '***' 0.001 '**' 0.01 '*' 0.05 '.' 0.1 ' ' 1"
      ]
     },
     "metadata": {},
     "output_type": "display_data"
    }
   ],
   "source": [
    "av=aov(data$f1_score ~ as.factor(data$model))\n",
    "summary(av)"
   ]
  },
  {
   "attachments": {},
   "cell_type": "markdown",
   "metadata": {},
   "source": [
    "dựa vào anova t thấy p<0.05 => bác bỏ H0 => có sự khác biệt giữa các model"
   ]
  },
  {
   "cell_type": "code",
   "execution_count": 6,
   "metadata": {
    "vscode": {
     "languageId": "r"
    }
   },
   "outputs": [
    {
     "data": {
      "text/plain": [
       "  Tukey multiple comparisons of means\n",
       "    95% family-wise confidence level\n",
       "\n",
       "Fit: aov(formula = data$f1_score ~ as.factor(data$model))\n",
       "\n",
       "$`as.factor(data$model)`\n",
       "               diff         lwr         upr     p adj\n",
       "svm-cnn   -0.037659 -0.07303027 -0.00228773 0.0338133\n",
       "trans-cnn  0.072155  0.03678373  0.10752627 0.0000073\n",
       "trans-svm  0.109814  0.07444273  0.14518527 0.0000000\n"
      ]
     },
     "metadata": {},
     "output_type": "display_data"
    }
   ],
   "source": [
    "TukeyHSD(av)"
   ]
  },
  {
   "attachments": {},
   "cell_type": "markdown",
   "metadata": {},
   "source": [
    "bằng phân tích hậu định ta có \n",
    "\n",
    "model svm cho kết quả trung bình thấp hơn model cnn là 0.02 với p>0.05 => ko có ý nghĩa thống kê\n",
    "\n",
    "model trans cho kết quả trung bình cao hơn model cnn là 0.07 với p<0.05 => có ý nghĩa thống kê\n",
    "\n",
    "model trans cho kết quả trung bình cao hơn model svm là 0.09 với p<0.05 => có ý nghĩa thống kê\n",
    "\n",
    "từ đây có thể thấy model trans cho hiệu suất tốt nhất so với svm và cnn"
   ]
  },
  {
   "cell_type": "code",
   "execution_count": 7,
   "metadata": {
    "vscode": {
     "languageId": "r"
    }
   },
   "outputs": [
    {
     "data": {
      "image/png": "[encoded data removed]",
      "text/plain": [
       "Plot with title \"95% family-wise confidence level\n",
       "\""
      ]
     },
     "metadata": {},
     "output_type": "display_data"
    }
   ],
   "source": [
    "plot(TukeyHSD(av))"
   ]
  },
  {
   "attachments": {},
   "cell_type": "markdown",
   "metadata": {},
   "source": [
    "H0: ko có khác biệt nào giữa các pp embedding\n",
    "\n",
    "H1: có sự khác biệt giữa các pp embedding"
   ]
  },
  {
   "cell_type": "code",
   "execution_count": 8,
   "metadata": {
    "vscode": {
     "languageId": "r"
    }
   },
   "outputs": [
    {
     "data": {
      "image/png": "[encoded data removed]",
      "text/plain": [
       "plot without title"
      ]
     },
     "metadata": {},
     "output_type": "display_data"
    }
   ],
   "source": [
    "boxplot(data$f1_score ~ as.factor(data$text_embedding))"
   ]
  },
  {
   "cell_type": "code",
   "execution_count": 9,
   "metadata": {
    "vscode": {
     "languageId": "r"
    }
   },
   "outputs": [
    {
     "data": {
      "text/plain": [
       "                                Df Sum Sq Mean Sq F value   Pr(>F)    \n",
       "as.factor(data$text_embedding)   3  0.659 0.21960   19.62 1.25e-11 ***\n",
       "Residuals                      296  3.312 0.01119                     \n",
       "---\n",
       "Signif. codes:  0 '***' 0.001 '**' 0.01 '*' 0.05 '.' 0.1 ' ' 1"
      ]
     },
     "metadata": {},
     "output_type": "display_data"
    }
   ],
   "source": [
    "av=aov(data$f1_score ~ as.factor(data$text_embedding))\n",
    "summary(av)"
   ]
  },
  {
   "attachments": {},
   "cell_type": "markdown",
   "metadata": {},
   "source": [
    "dựa vào anova t thấy p<0.05 => bác bỏ H0 => có sự khác biệt giữa các pp embedding"
   ]
  },
  {
   "cell_type": "code",
   "execution_count": 10,
   "metadata": {
    "vscode": {
     "languageId": "r"
    }
   },
   "outputs": [
    {
     "data": {
      "text/plain": [
       "  Tukey multiple comparisons of means\n",
       "    95% family-wise confidence level\n",
       "\n",
       "Fit: aov(formula = data$f1_score ~ as.factor(data$text_embedding))\n",
       "\n",
       "$`as.factor(data$text_embedding)`\n",
       "                          diff         lwr         upr     p adj\n",
       "cv-co_param       -0.095378667 -0.14001159 -0.05074575 0.0000004\n",
       "ko_param-co_param -0.108014667 -0.15264759 -0.06338175 0.0000000\n",
       "tf-idf-co_param   -0.116917333 -0.16155025 -0.07228441 0.0000000\n",
       "ko_param-cv       -0.012636000 -0.05726892  0.03199692 0.8844027\n",
       "tf-idf-cv         -0.021538667 -0.06617159  0.02309425 0.5975616\n",
       "tf-idf-ko_param   -0.008902667 -0.05353559  0.03573025 0.9553817\n"
      ]
     },
     "metadata": {},
     "output_type": "display_data"
    }
   ],
   "source": [
    "TukeyHSD(av)"
   ]
  },
  {
   "attachments": {},
   "cell_type": "markdown",
   "metadata": {},
   "source": [
    "dựa vào phân tích hậu định\n",
    "\n",
    "pp cv cho kết quả trung bình thấp hơn co_param là 0.076, p<0.05 => có ý nghĩa thống kê\n",
    "\n",
    "pp ko_param cho kết quả trung bình thấp hơn co_param là 0.075, p<0.05 => có ý nghĩa thống kê\n",
    "\n",
    "pp tf_idf cho kết quả trung bình thấp hơn co_param là 0.094, p <0.05 => có nghĩa thống kê\n",
    "\n",
    "=> pp co_param có hiệu suất tốt nhất"
   ]
  },
  {
   "cell_type": "code",
   "execution_count": 11,
   "metadata": {
    "vscode": {
     "languageId": "r"
    }
   },
   "outputs": [
    {
     "data": {
      "image/png": "[encoded data removed]",
      "text/plain": [
       "Plot with title \"95% family-wise confidence level\n",
       "\""
      ]
     },
     "metadata": {},
     "output_type": "display_data"
    }
   ],
   "source": [
    "plot(TukeyHSD(av))"
   ]
  },
  {
   "attachments": {},
   "cell_type": "markdown",
   "metadata": {},
   "source": [
    "H0: không có sự khác biệt giữa preprocessing và ko preprocessing\n",
    "H1: có sự khác biệt giữa preprocessing và ko preprocessing"
   ]
  },
  {
   "cell_type": "code",
   "execution_count": 13,
   "metadata": {
    "vscode": {
     "languageId": "r"
    }
   },
   "outputs": [
    {
     "data": {
      "image/png": "[encoded data removed]",
      "text/plain": [
       "plot without title"
      ]
     },
     "metadata": {},
     "output_type": "display_data"
    }
   ],
   "source": [
    "boxplot(data$f1_score ~ as.factor(data$preprocessing))"
   ]
  },
  {
   "cell_type": "code",
   "execution_count": 14,
   "metadata": {
    "vscode": {
     "languageId": "r"
    }
   },
   "outputs": [
    {
     "data": {
      "text/plain": [
       "\n",
       "\tWelch Two Sample t-test\n",
       "\n",
       "data:  data$f1_score by as.factor(data$preprocessing)\n",
       "t = -4.5966, df = 297.85, p-value = 6.353e-06\n",
       "alternative hypothesis: true difference in means is not equal to 0\n",
       "95 percent confidence interval:\n",
       " -0.07994468 -0.03201199\n",
       "sample estimates:\n",
       "mean in group 0 mean in group 1 \n",
       "      0.5586567       0.6146350 \n"
      ]
     },
     "metadata": {},
     "output_type": "display_data"
    }
   ],
   "source": [
    "t.test(data$f1_score ~ as.factor(data$preprocessing))"
   ]
  },
  {
   "attachments": {},
   "cell_type": "markdown",
   "metadata": {},
   "source": [
    "dựa vào t test, p<0.05 => có sự khác biệt giữa 2 nhóm"
   ]
  },
  {
   "attachments": {},
   "cell_type": "markdown",
   "metadata": {},
   "source": [
    "H0: preprocessing cho kết quả ko cao hơn là ko preprocessing\n",
    "\n",
    "H1: preprocessing cho kết quả cao hơn"
   ]
  },
  {
   "cell_type": "code",
   "execution_count": 15,
   "metadata": {
    "vscode": {
     "languageId": "r"
    }
   },
   "outputs": [],
   "source": [
    "preprocessing_0=data[which(data[['preprocessing']]==0),]['f1_score']\n",
    "preprocessing_1=data[which(data[['preprocessing']]==1),]['f1_score'] "
   ]
  },
  {
   "cell_type": "code",
   "execution_count": 16,
   "metadata": {
    "vscode": {
     "languageId": "r"
    }
   },
   "outputs": [
    {
     "data": {
      "text/plain": [
       "\n",
       "\tWelch Two Sample t-test\n",
       "\n",
       "data:  preprocessing_1 and preprocessing_0\n",
       "t = 4.5966, df = 297.85, p-value = 6.353e-06\n",
       "alternative hypothesis: true difference in means is not equal to 0\n",
       "95 percent confidence interval:\n",
       " 0.03201199 0.07994468\n",
       "sample estimates:\n",
       "mean of x mean of y \n",
       "0.6146350 0.5586567 \n"
      ]
     },
     "metadata": {},
     "output_type": "display_data"
    }
   ],
   "source": [
    "t.test(preprocessing_1,preprocessing_0,alterative='greater')\n"
   ]
  },
  {
   "attachments": {},
   "cell_type": "markdown",
   "metadata": {},
   "source": [
    "dựa vào kiểm định t cho, p<0.05 => bác bỏ H0 => chấp nhận \n",
    "\n",
    "H1: preprocessing cho kết quả cao hơn"
   ]
  }
 ],
 "metadata": {
  "kernelspec": {
   "display_name": "R",
   "language": "R",
   "name": "ir"
  },
  "language_info": {
   "codemirror_mode": "r",
   "file_extension": ".r",
   "mimetype": "text/x-r-source",
   "name": "R",
   "pygments_lexer": "r",
   "version": "3.6.1"
  },
  "orig_nbformat": 4
 },
 "nbformat": 4,
 "nbformat_minor": 2
}
